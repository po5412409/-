{
 "cells": [
  {
   "cell_type": "code",
   "execution_count": 6,
   "metadata": {},
   "outputs": [
    {
     "data": {
      "text/html": [
       "<div>\n",
       "<style scoped>\n",
       "    .dataframe tbody tr th:only-of-type {\n",
       "        vertical-align: middle;\n",
       "    }\n",
       "\n",
       "    .dataframe tbody tr th {\n",
       "        vertical-align: top;\n",
       "    }\n",
       "\n",
       "    .dataframe thead th {\n",
       "        text-align: right;\n",
       "    }\n",
       "</style>\n",
       "<table border=\"1\" class=\"dataframe\">\n",
       "  <thead>\n",
       "    <tr style=\"text-align: right;\">\n",
       "      <th></th>\n",
       "      <th>Symbol</th>\n",
       "      <th>Name</th>\n",
       "      <th>결산월</th>\n",
       "      <th>회계년</th>\n",
       "      <th>주기</th>\n",
       "      <th>분식기업</th>\n",
       "      <th>매출총이익률(%)</th>\n",
       "      <th>영업이익률(%)</th>\n",
       "      <th>당기순이익률(%)</th>\n",
       "      <th>자본금영업이익률(%)</th>\n",
       "      <th>...</th>\n",
       "      <th>영업현금흐름/투자현금흐름(%)</th>\n",
       "      <th>DSRI</th>\n",
       "      <th>GMI</th>\n",
       "      <th>AQI</th>\n",
       "      <th>SGI</th>\n",
       "      <th>DEPI</th>\n",
       "      <th>SGAI</th>\n",
       "      <th>LVGI</th>\n",
       "      <th>TATA</th>\n",
       "      <th>벤포드</th>\n",
       "    </tr>\n",
       "  </thead>\n",
       "  <tbody>\n",
       "    <tr>\n",
       "      <th>0</th>\n",
       "      <td>A095570</td>\n",
       "      <td>AJ네트웍스</td>\n",
       "      <td>12</td>\n",
       "      <td>2015</td>\n",
       "      <td>Annual</td>\n",
       "      <td>0.0</td>\n",
       "      <td>100.0</td>\n",
       "      <td>7.03</td>\n",
       "      <td>2.75</td>\n",
       "      <td>183.57</td>\n",
       "      <td>...</td>\n",
       "      <td>1.43</td>\n",
       "      <td>1.03</td>\n",
       "      <td>1.0</td>\n",
       "      <td>0.81</td>\n",
       "      <td>1.04</td>\n",
       "      <td>0.18</td>\n",
       "      <td>1.01</td>\n",
       "      <td>0.96</td>\n",
       "      <td>0.10</td>\n",
       "      <td>0</td>\n",
       "    </tr>\n",
       "    <tr>\n",
       "      <th>1</th>\n",
       "      <td>A095570</td>\n",
       "      <td>AJ네트웍스</td>\n",
       "      <td>12</td>\n",
       "      <td>2016</td>\n",
       "      <td>Annual</td>\n",
       "      <td>0.0</td>\n",
       "      <td>100.0</td>\n",
       "      <td>4.93</td>\n",
       "      <td>1.36</td>\n",
       "      <td>132.12</td>\n",
       "      <td>...</td>\n",
       "      <td>2.19</td>\n",
       "      <td>1.13</td>\n",
       "      <td>1.0</td>\n",
       "      <td>1.28</td>\n",
       "      <td>1.19</td>\n",
       "      <td>0.17</td>\n",
       "      <td>1.02</td>\n",
       "      <td>1.03</td>\n",
       "      <td>0.12</td>\n",
       "      <td>0</td>\n",
       "    </tr>\n",
       "  </tbody>\n",
       "</table>\n",
       "<p>2 rows × 47 columns</p>\n",
       "</div>"
      ],
      "text/plain": [
       "    Symbol    Name  결산월   회계년      주기  분식기업  매출총이익률(%)  영업이익률(%)  당기순이익률(%)  \\\n",
       "0  A095570  AJ네트웍스   12  2015  Annual   0.0      100.0      7.03       2.75   \n",
       "1  A095570  AJ네트웍스   12  2016  Annual   0.0      100.0      4.93       1.36   \n",
       "\n",
       "   자본금영업이익률(%)  ...  영업현금흐름/투자현금흐름(%)  DSRI  GMI   AQI   SGI  DEPI  SGAI  \\\n",
       "0       183.57  ...              1.43  1.03  1.0  0.81  1.04  0.18  1.01   \n",
       "1       132.12  ...              2.19  1.13  1.0  1.28  1.19  0.17  1.02   \n",
       "\n",
       "   LVGI  TATA  벤포드  \n",
       "0  0.96  0.10    0  \n",
       "1  1.03  0.12    0  \n",
       "\n",
       "[2 rows x 47 columns]"
      ]
     },
     "execution_count": 6,
     "metadata": {},
     "output_type": "execute_result"
    }
   ],
   "source": [
    "import pandas as pd\n",
    "\n",
    "df = pd.read_csv('../data/dataset/코스피_최종.csv')\n",
    "feature = df[df.columns[6:]]\n",
    "label = df['분식기업']\n",
    "\n",
    "df.head(2)"
   ]
  },
  {
   "cell_type": "code",
   "execution_count": 9,
   "metadata": {},
   "outputs": [
    {
     "name": "stdout",
     "output_type": "stream",
     "text": [
      "Forward Selected Features: (7029, 10)\n",
      "Backward Selected Features: (7029, 10)\n",
      "Stepwise Selected Features: (7029, 10)\n"
     ]
    }
   ],
   "source": [
    "from sklearn.feature_selection import SequentialFeatureSelector\n",
    "from sklearn.linear_model import LinearRegression\n",
    "\n",
    "# 1. 전진 선택법 (Forward Selection)\n",
    "forward_selector = SequentialFeatureSelector(LinearRegression(),\n",
    "                                             n_features_to_select=10,  # 선택할 특성의 개수\n",
    "                                             direction='forward').fit(feature, label)\n",
    "forward_selected_features = feature.iloc[:, forward_selector.get_support(indices=True)]\n",
    "print(\"Forward Selected Features:\", forward_selected_features.shape)\n",
    "\n",
    "# 2. 후진 제거법 (Backward Elimination)\n",
    "backward_selector = SequentialFeatureSelector(LinearRegression(),\n",
    "                                              n_features_to_select=10,  # 선택할 특성의 개수\n",
    "                                              direction='backward').fit(feature, label)\n",
    "backward_selected_features = feature.iloc[:, backward_selector.get_support(indices=True)]\n",
    "print(\"Backward Selected Features:\", backward_selected_features.shape)\n",
    "\n",
    "# 3. 단계별 선택법 (Stepwise Selection)\n",
    "stepwise_selector = SequentialFeatureSelector(LinearRegression(),\n",
    "                                              n_features_to_select=10,  # 선택할 특성의 개수\n",
    "                                              direction='forward',  # forward와 backward 중 선택\n",
    "                                              ).fit(feature, label)\n",
    "stepwise_selected_features = feature.iloc[:, stepwise_selector.get_support(indices=True)]\n",
    "print(\"Stepwise Selected Features:\", stepwise_selected_features.shape)"
   ]
  },
  {
   "cell_type": "code",
   "execution_count": 11,
   "metadata": {},
   "outputs": [
    {
     "data": {
      "text/plain": [
       "Index(['영업이익률(%)', '자본금영업이익률(%)', '자본금세전계속사업이익률(%)', '영업이익증가율(전년동기)(%)',\n",
       "       '판관비율(%)', '타인자본비율(%)', '총자산회전율(회)', '총부채회전율(회)', '현금흐름/총자본(%)',\n",
       "       'SGAI'],\n",
       "      dtype='object')"
      ]
     },
     "execution_count": 11,
     "metadata": {},
     "output_type": "execute_result"
    }
   ],
   "source": [
    "forward_selected_features.columns"
   ]
  },
  {
   "cell_type": "code",
   "execution_count": 12,
   "metadata": {},
   "outputs": [
    {
     "data": {
      "text/plain": [
       "Index(['영업이익률(%)', '자본금영업이익률(%)', '자본금세전계속사업이익률(%)', '영업이익증가율(전년동기)(%)',\n",
       "       '타인자본비율(%)', '총자산회전율(회)', '총부채회전율(회)', '현금흐름/총자본(%)', 'SGAI', 'LVGI'],\n",
       "      dtype='object')"
      ]
     },
     "execution_count": 12,
     "metadata": {},
     "output_type": "execute_result"
    }
   ],
   "source": [
    "backward_selected_features.columns"
   ]
  },
  {
   "cell_type": "code",
   "execution_count": 13,
   "metadata": {},
   "outputs": [
    {
     "data": {
      "text/plain": [
       "Index(['영업이익률(%)', '자본금영업이익률(%)', '자본금세전계속사업이익률(%)', '영업이익증가율(전년동기)(%)',\n",
       "       '판관비율(%)', '타인자본비율(%)', '총자산회전율(회)', '총부채회전율(회)', '현금흐름/총자본(%)',\n",
       "       'SGAI'],\n",
       "      dtype='object')"
      ]
     },
     "execution_count": 13,
     "metadata": {},
     "output_type": "execute_result"
    }
   ],
   "source": [
    "stepwise_selected_features.columns"
   ]
  },
  {
   "cell_type": "code",
   "execution_count": null,
   "metadata": {},
   "outputs": [],
   "source": []
  },
  {
   "cell_type": "markdown",
   "metadata": {},
   "source": [
    "스케일링 이후"
   ]
  },
  {
   "cell_type": "code",
   "execution_count": null,
   "metadata": {},
   "outputs": [],
   "source": []
  }
 ],
 "metadata": {
  "kernelspec": {
   "display_name": "base",
   "language": "python",
   "name": "python3"
  },
  "language_info": {
   "codemirror_mode": {
    "name": "ipython",
    "version": 3
   },
   "file_extension": ".py",
   "mimetype": "text/x-python",
   "name": "python",
   "nbconvert_exporter": "python",
   "pygments_lexer": "ipython3",
   "version": "3.10.9"
  }
 },
 "nbformat": 4,
 "nbformat_minor": 2
}
