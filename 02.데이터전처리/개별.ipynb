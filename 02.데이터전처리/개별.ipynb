{
 "cells": [
  {
   "cell_type": "code",
   "execution_count": 1,
   "metadata": {},
   "outputs": [],
   "source": [
    "import pandas as pd\n",
    "\n",
    "kospi_profitability = pd.read_csv('../data/raw_data/개별재무제표/코스피_수익성.csv', thousands=',')\n",
    "kospi_growth = pd.read_csv('../data/raw_data/개별재무제표/코스피_성장성.csv', thousands=',')\n",
    "kospi_stability = pd.read_csv('../data/raw_data/개별재무제표/코스피_안정성.csv', thousands=',')\n",
    "kospi_activity = pd.read_csv('../data/raw_data/개별재무제표/코스피_활동성.csv', thousands=',')\n",
    "kospi_beneish = pd.read_csv('../data/raw_data/개별재무제표/코스피_베네시.csv', thousands=',')"
   ]
  },
  {
   "cell_type": "code",
   "execution_count": 2,
   "metadata": {},
   "outputs": [
    {
     "name": "stdout",
     "output_type": "stream",
     "text": [
      "(13356, 14) (1100, 14)\n"
     ]
    }
   ],
   "source": [
    "print(kospi_profitability.shape, \n",
    "      kospi_profitability.drop_duplicates('Name').shape)"
   ]
  },
  {
   "cell_type": "code",
   "execution_count": 3,
   "metadata": {},
   "outputs": [],
   "source": [
    "kospi_all = pd.merge(kospi_profitability, kospi_growth, on=['Symbol', 'Name', '결산월', '회계년', '주기'])\n",
    "kospi_all = pd.merge(kospi_all, kospi_stability, on=['Symbol', 'Name', '결산월', '회계년', '주기'])\n",
    "kospi_all = pd.merge(kospi_all, kospi_activity, on=['Symbol', 'Name', '결산월', '회계년', '주기'])"
   ]
  },
  {
   "cell_type": "code",
   "execution_count": 4,
   "metadata": {},
   "outputs": [
    {
     "data": {
      "text/plain": [
       "Index(['Symbol', 'Name', '결산월', '회계년', '주기', '매출총이익률(%)', '영업이익률(%)',\n",
       "       '당기순이익률(%)', '자본금영업이익률(%)', '영업수익(천원)', '영업비용(천원)', '세전계속사업이익률(%)',\n",
       "       '자본금세전계속사업이익률(%)', '자본금지배주주순이익률(%)', '매출액증가율(전년동기)(%)',\n",
       "       '영업이익증가율(전년동기)(%)', '영업이익(천원)', '당기순이익증가율', '당기순이익(천원)', '총자본증가율',\n",
       "       '총자본(천원)', '유형자산(천원)', '부채비율(%)', '유동비율', '유동자산(천원)', '유동부채(천원)',\n",
       "       '당좌비율', '당좌자산(천원)', '유동부채(천원).1', '현금비율', '현금및현금성자산(천원)', '유동부채(천원).2',\n",
       "       '유형자산구성비율(%)', '무형자산구성비율(%)', '판매비와관리비증가율(전년동기)(%)', '타인자본비율(%)',\n",
       "       '매출액(천원)_x', '단기금융상품(천원)', '총자산회전율(회)', '매출채권회전율', '매출액(천원)_y',\n",
       "       '매출채권(천원)', '재고자산회전율', '매출액(천원).1', '재고자산(천원)', '총부채회전율(회)',\n",
       "       '총자본회전율(회)', '자본금회전율(회)', '총자산(천원)', '매출원가(천원)'],\n",
       "      dtype='object')"
      ]
     },
     "execution_count": 4,
     "metadata": {},
     "output_type": "execute_result"
    }
   ],
   "source": [
    "kospi_all.columns"
   ]
  },
  {
   "cell_type": "code",
   "execution_count": 5,
   "metadata": {},
   "outputs": [],
   "source": [
    "kospi_all.drop(columns=[ '매출총이익률(%)', '영업이익률(%)', '당기순이익률(%)', '자본금영업이익률(%)','세전계속사업이익률(%)',\n",
    "       '자본금세전계속사업이익률(%)', '자본금지배주주순이익률(%)', '매출액증가율(전년동기)(%)', '영업이익증가율(전년동기)(%)',\n",
    "       '당기순이익증가율', '총자본증가율', '부채비율(%)', '유동비율', '당좌비율', '유동부채(천원).1', '현금비율',\n",
    "       '유동부채(천원).2', '유형자산구성비율(%)', '무형자산구성비율(%)', '판매비와관리비증가율(전년동기)(%)', '타인자본비율(%)',\n",
    "       '매출액(천원)_x', '총자산회전율(회)', '매출채권회전율', '매출액(천원)_y', '재고자산회전율', '매출액(천원).1',\n",
    "       '총부채회전율(회)', '총자본회전율(회)', '자본금회전율(회)',], inplace=True)"
   ]
  },
  {
   "cell_type": "code",
   "execution_count": 6,
   "metadata": {},
   "outputs": [
    {
     "data": {
      "text/plain": [
       "Index(['Symbol', 'Name', '결산월', '회계년', '주기', '영업수익(천원)', '영업비용(천원)',\n",
       "       '영업이익(천원)', '당기순이익(천원)', '총자본(천원)', '유형자산(천원)', '유동자산(천원)', '유동부채(천원)',\n",
       "       '당좌자산(천원)', '현금및현금성자산(천원)', '단기금융상품(천원)', '매출채권(천원)', '재고자산(천원)',\n",
       "       '총자산(천원)', '매출원가(천원)'],\n",
       "      dtype='object')"
      ]
     },
     "execution_count": 6,
     "metadata": {},
     "output_type": "execute_result"
    }
   ],
   "source": [
    "kospi_all.columns"
   ]
  },
  {
   "cell_type": "code",
   "execution_count": 7,
   "metadata": {},
   "outputs": [
    {
     "data": {
      "text/plain": [
       "Index(['Symbol', 'Name', '결산월', '회계년', '주기', '매출채권(천원)', '매출액(천원)', '매출원가(천원)',\n",
       "       '유동자산(천원)', '유형자산(천원)', '총자산(천원)', '재고자산(천원)', '당기순이익(천원)',\n",
       "       '판매비와관리비(천원)', '유동부채(천원)', '비유동부채(천원)', '영업활동으로인한현금흐름(천원)', '영업이익(천원)',\n",
       "       '유무형자산상각비(천원)'],\n",
       "      dtype='object')"
      ]
     },
     "execution_count": 7,
     "metadata": {},
     "output_type": "execute_result"
    }
   ],
   "source": [
    "kospi_beneish.columns"
   ]
  },
  {
   "cell_type": "code",
   "execution_count": 8,
   "metadata": {},
   "outputs": [],
   "source": [
    "kospi_beneish.drop(columns=['영업이익(천원)', '당기순이익(천원)', '유형자산(천원)', '유동자산(천원)', '유동부채(천원)',\n",
    "      '매출채권(천원)', '재고자산(천원)', '매출원가(천원)',  '총자산(천원)'], inplace = True)"
   ]
  },
  {
   "cell_type": "code",
   "execution_count": 9,
   "metadata": {},
   "outputs": [
    {
     "data": {
      "text/plain": [
       "Index(['Symbol', 'Name', '결산월', '회계년', '주기', '매출액(천원)', '판매비와관리비(천원)',\n",
       "       '비유동부채(천원)', '영업활동으로인한현금흐름(천원)', '유무형자산상각비(천원)'],\n",
       "      dtype='object')"
      ]
     },
     "execution_count": 9,
     "metadata": {},
     "output_type": "execute_result"
    }
   ],
   "source": [
    "kospi_beneish.columns"
   ]
  },
  {
   "cell_type": "code",
   "execution_count": 10,
   "metadata": {},
   "outputs": [
    {
     "data": {
      "text/plain": [
       "Index(['Symbol', 'Name', '결산월', '회계년', '주기', '영업수익(천원)', '영업비용(천원)',\n",
       "       '영업이익(천원)', '당기순이익(천원)', '총자본(천원)', '유형자산(천원)', '유동자산(천원)', '유동부채(천원)',\n",
       "       '당좌자산(천원)', '현금및현금성자산(천원)', '단기금융상품(천원)', '매출채권(천원)', '재고자산(천원)',\n",
       "       '총자산(천원)', '매출원가(천원)'],\n",
       "      dtype='object')"
      ]
     },
     "execution_count": 10,
     "metadata": {},
     "output_type": "execute_result"
    }
   ],
   "source": [
    "kospi_all.columns"
   ]
  },
  {
   "cell_type": "code",
   "execution_count": 11,
   "metadata": {},
   "outputs": [],
   "source": [
    "kospi_all = pd.merge(kospi_all, kospi_beneish, on=['Symbol', 'Name', '결산월', '회계년', '주기'])"
   ]
  },
  {
   "cell_type": "code",
   "execution_count": 12,
   "metadata": {},
   "outputs": [
    {
     "data": {
      "text/plain": [
       "Index(['Symbol', 'Name', '결산월', '회계년', '주기', '영업수익(천원)', '영업비용(천원)',\n",
       "       '영업이익(천원)', '당기순이익(천원)', '총자본(천원)', '유형자산(천원)', '유동자산(천원)', '유동부채(천원)',\n",
       "       '당좌자산(천원)', '현금및현금성자산(천원)', '단기금융상품(천원)', '매출채권(천원)', '재고자산(천원)',\n",
       "       '총자산(천원)', '매출원가(천원)', '매출액(천원)', '판매비와관리비(천원)', '비유동부채(천원)',\n",
       "       '영업활동으로인한현금흐름(천원)', '유무형자산상각비(천원)'],\n",
       "      dtype='object')"
      ]
     },
     "execution_count": 12,
     "metadata": {},
     "output_type": "execute_result"
    }
   ],
   "source": [
    "kospi_all.columns"
   ]
  },
  {
   "cell_type": "code",
   "execution_count": 13,
   "metadata": {},
   "outputs": [],
   "source": [
    "# kospi_all.to_csv('../data/dataset/코스피_개별재무제표계정값.csv', index = False, encoding='UTF-8-sig')"
   ]
  }
 ],
 "metadata": {
  "kernelspec": {
   "display_name": "base",
   "language": "python",
   "name": "python3"
  },
  "language_info": {
   "codemirror_mode": {
    "name": "ipython",
    "version": 3
   },
   "file_extension": ".py",
   "mimetype": "text/x-python",
   "name": "python",
   "nbconvert_exporter": "python",
   "pygments_lexer": "ipython3",
   "version": "3.10.9"
  }
 },
 "nbformat": 4,
 "nbformat_minor": 2
}
