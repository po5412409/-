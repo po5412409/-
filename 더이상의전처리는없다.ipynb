{
 "cells": [
  {
   "cell_type": "code",
   "execution_count": 1,
   "metadata": {},
   "outputs": [],
   "source": [
    "import pandas as pd"
   ]
  },
  {
   "cell_type": "code",
   "execution_count": 2,
   "metadata": {},
   "outputs": [],
   "source": [
    "# 코스피 수익성, 성장성, 안정성, 활동성, 현금흐름, 베네시, 벤포드, 분식여부 csv 가져오기\n",
    "kospi_profitability = pd.read_csv('./값채우기/코스피_수익성.csv', thousands=',')\n",
    "kospi_growth = pd.read_csv('./값채우기/코스피_성장성.csv', thousands=',')\n",
    "kospi_stability = pd.read_csv('./값채우기/코스피_안정성.csv', thousands=',')\n",
    "kospi_activity = pd.read_csv('./값채우기/코스피_활동성.csv', thousands=',')\n",
    "kospi_cf = pd.read_csv('./값채우기/코스피_현금흐름.csv', thousands=',')\n",
    "kospi_beneish = pd.read_csv('./값채우기/코스피_베니시.csv', thousands=',')\n",
    "kospi_benford = pd.read_csv('./값채우기/kospi_benford.csv')\n",
    "kospi_company = pd.read_csv('./감리지적기업연도/코스피_분식기업.csv')"
   ]
  },
  {
   "cell_type": "code",
   "execution_count": 3,
   "metadata": {},
   "outputs": [],
   "source": [
    "kospi_benford.drop(['결산월', '주기'], axis=1, inplace=True)"
   ]
  },
  {
   "cell_type": "code",
   "execution_count": 4,
   "metadata": {},
   "outputs": [],
   "source": [
    "# 코스닥 수익성, 성장성, 안정성, 활동성, 현금흐름, 베네시, 벤포드, 분식여부 csv 가져오기\n",
    "kosdaq_profitability = pd.read_csv('./값채우기/코스닥_수익성.csv', thousands=',')\n",
    "kosdaq_growth = pd.read_csv('./값채우기/코스닥_성장성.csv', thousands=',')\n",
    "kosdaq_stability = pd.read_csv('./값채우기/코스닥_안정성.csv', thousands=',')\n",
    "kosdaq_activity = pd.read_csv('./값채우기/코스닥_활동성.csv', thousands=',')\n",
    "kosdaq_cf = pd.read_csv('./값채우기/코스닥_현금흐름.csv', thousands=',')\n",
    "kosdaq_beneish = pd.read_csv('./값채우기/코스닥_베니시.csv', thousands=',')\n",
    "kosdaq_benford = pd.read_csv('./값채우기/kosdaq_benford.csv')\n",
    "kosdaq_company = pd.read_csv('./감리지적기업연도/코스닥_분식기업.csv')"
   ]
  },
  {
   "cell_type": "code",
   "execution_count": 5,
   "metadata": {},
   "outputs": [],
   "source": [
    "kosdaq_benford.drop(['결산월', '주기'], axis=1, inplace=True)"
   ]
  },
  {
   "cell_type": "code",
   "execution_count": 6,
   "metadata": {},
   "outputs": [
    {
     "name": "stdout",
     "output_type": "stream",
     "text": [
      "(13356, 11) (1100, 11) (27840, 11) (2317, 11)\n"
     ]
    }
   ],
   "source": [
    "print(kospi_profitability.shape, \n",
    "      kospi_profitability.drop_duplicates('Name').shape, \n",
    "      kosdaq_profitability.shape, \n",
    "      kosdaq_profitability.drop_duplicates('Name').shape)\n",
    "\n",
    "# 원데이터\n",
    "# 코스피: 13356개 / 1100개 기업\n",
    "# 코스닥: 27840개 / 1696개 기업"
   ]
  },
  {
   "cell_type": "markdown",
   "metadata": {},
   "source": [
    "---\n",
    "### 이너조인, 데이터 병합시키기"
   ]
  },
  {
   "cell_type": "code",
   "execution_count": 7,
   "metadata": {},
   "outputs": [],
   "source": [
    "kospi_all = pd.merge(kospi_profitability, kospi_growth, on=['Symbol', 'Name', '회계년'])\n",
    "kospi_all = pd.merge(kospi_all, kospi_stability, on=['Symbol', 'Name', '회계년'])\n",
    "kospi_all = pd.merge(kospi_all, kospi_activity, on=['Symbol', 'Name', '회계년'])\n",
    "kospi_all = pd.merge(kospi_all, kospi_cf, on=['Symbol', 'Name', '회계년'])\n",
    "kospi_all = pd.merge(kospi_all, kospi_beneish, on=['Symbol', 'Name', '회계년'])\n",
    "kospi_all = pd.merge(kospi_all, kospi_benford, on=['Symbol', 'Name', '회계년'])\n",
    "kospi_all = pd.merge(kospi_all, kospi_company, on=['Name', '회계년'], how='left')"
   ]
  },
  {
   "cell_type": "code",
   "execution_count": 8,
   "metadata": {},
   "outputs": [],
   "source": [
    "kosdaq_all = pd.merge(kosdaq_profitability, kosdaq_growth, on=['Symbol', 'Name', '회계년'])\n",
    "kosdaq_all = pd.merge(kosdaq_all, kosdaq_stability, on=['Symbol', 'Name', '회계년'])\n",
    "kosdaq_all = pd.merge(kosdaq_all, kosdaq_activity, on=['Symbol', 'Name', '회계년'])\n",
    "kosdaq_all = pd.merge(kosdaq_all, kosdaq_cf, on=['Symbol', 'Name', '회계년'])\n",
    "kosdaq_all = pd.merge(kosdaq_all, kosdaq_beneish, on=['Symbol', 'Name', '회계년'])\n",
    "kosdaq_all = pd.merge(kosdaq_all, kosdaq_benford, on=['Symbol', 'Name', '회계년'])\n",
    "kosdaq_all = pd.merge(kosdaq_all, kosdaq_company, on=['Name', '회계년'], how='left')"
   ]
  },
  {
   "cell_type": "code",
   "execution_count": 9,
   "metadata": {},
   "outputs": [],
   "source": [
    "import numpy as np\n",
    "kospi_all['분식기업'].replace(np.nan, 0, inplace=True)\n",
    "kosdaq_all['분식기업'].replace(np.nan, 0, inplace=True)"
   ]
  },
  {
   "cell_type": "markdown",
   "metadata": {},
   "source": [
    "---\n",
    "### 11년 데이터 제거"
   ]
  },
  {
   "cell_type": "code",
   "execution_count": 10,
   "metadata": {},
   "outputs": [],
   "source": [
    "kospi_all = kospi_all[kospi_all['회계년'] != 2011]\n",
    "kosdaq_all = kosdaq_all[kosdaq_all['회계년'] != 2011]"
   ]
  },
  {
   "cell_type": "code",
   "execution_count": 11,
   "metadata": {},
   "outputs": [
    {
     "name": "stdout",
     "output_type": "stream",
     "text": [
      "(12250, 46) (1100, 46) (25479, 46) (2313, 46)\n"
     ]
    }
   ],
   "source": [
    "print(kospi_all.shape, \n",
    "      kospi_all.drop_duplicates('Name').shape, \n",
    "      kosdaq_all.shape, \n",
    "      kosdaq_all.drop_duplicates('Name').shape)\n",
    "\n",
    "# 코스피: 7356개 / 733개 기업\n",
    "# 코스닥: 12214개 / 1472개 기업"
   ]
  },
  {
   "cell_type": "markdown",
   "metadata": {},
   "source": [
    "---\n",
    "### 상장 이전 회계연도 데이터 제거하기 (불필요한 데이터 제거)"
   ]
  },
  {
   "cell_type": "code",
   "execution_count": 12,
   "metadata": {},
   "outputs": [],
   "source": [
    "# KRX에서 상장일 데이터 가져왔음! 불러오기!! (코스피)\n",
    "\n",
    "kospi_info = pd.read_csv('./코스피_기본정보.csv', encoding='CP949')\n",
    "kospi_info = kospi_info[['단축코드', '한글 종목약명', '상장일']]\n",
    "\n",
    "# '상장일' 칼럼을 날짜 형식으로 변환\n",
    "kospi_info['상장일'] = pd.to_datetime(kospi_info['상장일'], format='%Y/%m/%d')\n",
    "\n",
    "# 연도만 남기기\n",
    "kospi_info['상장일'] = kospi_info['상장일'].dt.year\n",
    "\n",
    "# '상장일' 칼럼을 문자열로 변환\n",
    "kospi_info['상장일'] = kospi_info['상장일'].astype(str)\n",
    "\n",
    "# '단축코드' 칼럼의 모든 데이터에 'A'를 추가하기\n",
    "kospi_info['단축코드'] = 'A' + kospi_info['단축코드'].astype(str)\n",
    "\n",
    "# '단축코드' 칼럼명을 'Symbol'로 변경하기\n",
    "kospi_info.rename(columns={'단축코드':'Symbol', \n",
    "                           '한글 종목약명':'Name', \n",
    "                           '상장일':'상장연도'}, inplace=True)"
   ]
  },
  {
   "cell_type": "code",
   "execution_count": 13,
   "metadata": {},
   "outputs": [],
   "source": [
    "# KRX에서 상장일 데이터 가져왔음! 불러오기!! (코스닥)\n",
    "\n",
    "kosdaq_info = pd.read_csv('./코스닥_기본정보.csv', encoding='CP949')\n",
    "kosdaq_info = kosdaq_info[['단축코드', '한글 종목약명', '상장일']]\n",
    "\n",
    "# '상장일' 칼럼을 날짜 형식으로 변환\n",
    "kosdaq_info['상장일'] = pd.to_datetime(kosdaq_info['상장일'], format='%Y/%m/%d')\n",
    "\n",
    "# 연도만 남기기\n",
    "kosdaq_info['상장일'] = kosdaq_info['상장일'].dt.year\n",
    "\n",
    "# '상장일' 칼럼을 문자열로 변환\n",
    "kosdaq_info['상장일'] = kosdaq_info['상장일'].astype(str)\n",
    "\n",
    "# '단축코드' 칼럼의 모든 데이터에 'A'를 추가하기\n",
    "kosdaq_info['단축코드'] = 'A' + kosdaq_info['단축코드'].astype(str)\n",
    "\n",
    "# '단축코드' 칼럼명을 'Symbol'로 변경하기\n",
    "kosdaq_info.rename(columns={'단축코드':'Symbol', \n",
    "                            '한글 종목약명':'Name', \n",
    "                            '상장일':'상장연도'}, inplace=True)"
   ]
  },
  {
   "cell_type": "code",
   "execution_count": 14,
   "metadata": {},
   "outputs": [],
   "source": [
    "kospi_all = pd.merge(kospi_info, kospi_all, on='Symbol')\n",
    "kosdaq_all = pd.merge(kosdaq_info, kosdaq_all, on='Symbol')"
   ]
  },
  {
   "cell_type": "code",
   "execution_count": 15,
   "metadata": {},
   "outputs": [],
   "source": [
    "# '상장연도' 칼럼의 데이터 타입을 정수형으로 변환\n",
    "kospi_all['상장연도'] = kospi_all['상장연도'].astype(int)\n",
    "\n",
    "# '회계년' 칼럼이 '상장연도' 칼럼보다 작은 행을 필터링하여 삭제\n",
    "kospi_all = kospi_all[kospi_all['회계년'] >= kospi_all['상장연도']]\n",
    "\n",
    "# 위 코드는 '회계년' 칼럼이 '상장연도' 칼럼보다 크거나 같은 행만 유지하고, 나머지 행은 모두 삭제합니다. \n",
    "# 이렇게 하면 '회계년'이 '상장연도'보다 작은 행은 필터링되어 제거됩니다."
   ]
  },
  {
   "cell_type": "code",
   "execution_count": 16,
   "metadata": {},
   "outputs": [],
   "source": [
    "# '상장연도' 칼럼의 데이터 타입을 정수형으로 변환\n",
    "kosdaq_all['상장연도'] = kosdaq_all['상장연도'].astype(int)\n",
    "\n",
    "# '회계년' 칼럼이 '상장연도' 칼럼보다 작은 행을 필터링하여 삭제\n",
    "kosdaq_all = kosdaq_all[kosdaq_all['회계년'] >= kosdaq_all['상장연도']]\n",
    "\n",
    "# 위 코드는 '회계년' 칼럼이 '상장연도' 칼럼보다 크거나 같은 행만 유지하고, 나머지 행은 모두 삭제합니다. \n",
    "# 이렇게 하면 '회계년'이 '상장연도'보다 작은 행은 필터링되어 제거됩니다."
   ]
  },
  {
   "cell_type": "code",
   "execution_count": 17,
   "metadata": {},
   "outputs": [
    {
     "name": "stdout",
     "output_type": "stream",
     "text": [
      "(7833, 48) (779, 48) (12447, 48) (1534, 48)\n"
     ]
    }
   ],
   "source": [
    "print(kospi_all.shape, \n",
    "      kospi_all.drop_duplicates('Name_y').shape, \n",
    "      kosdaq_all.shape, \n",
    "      kosdaq_all.drop_duplicates('Name_y').shape)\n",
    "\n",
    "# 코스피: 8461개 / 779개 기업\n",
    "# 코스닥: 13268개 / 1538개 기업"
   ]
  },
  {
   "cell_type": "code",
   "execution_count": 18,
   "metadata": {},
   "outputs": [],
   "source": [
    "kospi_all.drop(['Name_x'], axis=1, inplace=True)\n",
    "kospi_all.rename(columns={'Name_y': 'Name'}, inplace=True)\n",
    "kosdaq_all.drop(['Name_x'], axis=1, inplace=True)\n",
    "kosdaq_all.rename(columns={'Name_y': 'Name'}, inplace=True)"
   ]
  },
  {
   "cell_type": "markdown",
   "metadata": {},
   "source": [
    "---\n",
    "### 금융업 제외시키기 (불필요한 데이터 제거)\n",
    "- WICS 기준 금융업 제외\n",
    "- 은행 / 증권 / 다각화된금융 / 보험 / 부동산\n",
    "- 키워드 제거"
   ]
  },
  {
   "cell_type": "code",
   "execution_count": 19,
   "metadata": {},
   "outputs": [],
   "source": [
    "# 은행\n",
    "bank = ['KB금융', \n",
    "        '신한지주', \n",
    "        '하나금융지주', \n",
    "        '우리금융지주', \n",
    "        '기업은행', \n",
    "        '카카오뱅크', \n",
    "        'BNK금융지주', \n",
    "        'JB금융지주', \n",
    "        'DGB금융지주', \n",
    "        '상상인', \n",
    "        '제주은행']\n",
    "\n",
    "# result = result[~result['Name'].isin(bank)]\n",
    "\n",
    "# 증권\n",
    "securities = ['메리츠금융지주', \n",
    "              '한국금융지주', \n",
    "              '미래에셋증권', \n",
    "              '삼성증권', \n",
    "              'NH투자증권', \n",
    "              '키움증권', \n",
    "              '다우기술', \n",
    "              '대신증권', \n",
    "              '한화투자증권', \n",
    "              '유진투자증권', \n",
    "              '신영증권', \n",
    "              '유안타증권', \n",
    "              'SK증권', \n",
    "              '다우데이타', \n",
    "              '다올투자증권', \n",
    "              '교보증권', \n",
    "              '현대차증권', \n",
    "              'DB금융투자', \n",
    "              '케이프', \n",
    "              '한양증권', \n",
    "              '부국증권', \n",
    "              '이베스트투자증권', \n",
    "              '유화증권', \n",
    "              '상상인증권', \n",
    "              '코리아에셋투자증권']\n",
    "\n",
    "# result = result[~result['Name'].isin(securities)]\n",
    "\n",
    "# 다각화된금융\n",
    "diversified = ['삼성카드', \n",
    "               '우리기술투자', \n",
    "               '스틱인베스트먼트', \n",
    "               '글로벌텍스프리', \n",
    "               '미래에셋벤처투자', \n",
    "               '아주IB투자', \n",
    "               '에이티넘인베스트', \n",
    "               '리드코프', \n",
    "               'DSC인베스트먼트', \n",
    "               'SV인베스트먼트', \n",
    "               'SBI인베스트먼트', \n",
    "               '대성창투', \n",
    "               '한국캐피탈', \n",
    "               \"메이슨캐피탈\", \n",
    "               'HB인베스트먼트', \n",
    "               '캡스톤파트너스', \n",
    "               '스톤브릿지벤처스', \n",
    "               '컴퍼니케이', \n",
    "               '나우IB', \n",
    "               '큐캐피탈', \n",
    "               'TS인베스트먼트', \n",
    "               '푸른저축은행', \n",
    "               'LB인베스트먼트', \n",
    "               '리더스 기술투자', \n",
    "               '린드먼아시아']\n",
    "\n",
    "# result = result[~result['Name'].isin(diversified)]\n",
    "\n",
    "insurance = ['삼성화재', \n",
    "             '삼성생명', \n",
    "             'DB손해보험', \n",
    "             '현대해상', \n",
    "             '한화생명', \n",
    "             '코리안리', \n",
    "             '한화손해보험', \n",
    "             '미래에셋생명', \n",
    "             '롯데손해보험', \n",
    "             '동양생명', \n",
    "             '인카금융서비스', \n",
    "             '에이플러스에셋', \n",
    "             '흥국화재']\n",
    "\n",
    "# result = result[~result['Name'].isin(insurance)]\n",
    "\n",
    "kospi_all = kospi_all[~kospi_all['Name'].isin(set(bank)|set(securities)|set(diversified)|set(insurance))]\n",
    "kosdaq_all = kosdaq_all[~kosdaq_all['Name'].isin(set(bank)|set(securities)|set(diversified)|set(insurance))]"
   ]
  },
  {
   "cell_type": "code",
   "execution_count": 20,
   "metadata": {},
   "outputs": [],
   "source": [
    "kospi_all = kospi_all[~kospi_all['Name'].str.contains('은행|증권|투자|인베스트먼트|스팩|보험|화재|신탁|금융|카드|캐피탈|우리종금|대성창투')]\n",
    "kosdaq_all = kosdaq_all[~kosdaq_all['Name'].str.contains('은행|증권|투자|인베스트먼트|스팩|보험|화재|신탁|금융|카드|캐피탈|우리종금|대성창투')]\n",
    "# 생명의 경우 -> JW생명과학, 진원생명과학, LG생명과학도 필터링됨 -> 일단 보류"
   ]
  },
  {
   "cell_type": "code",
   "execution_count": 21,
   "metadata": {},
   "outputs": [
    {
     "name": "stdout",
     "output_type": "stream",
     "text": [
      "(7363, 47) (733, 47) (12188, 47) (1468, 47)\n"
     ]
    }
   ],
   "source": [
    "print(kospi_all.shape, \n",
    "      kospi_all.drop_duplicates('Name').shape, \n",
    "      kosdaq_all.shape, \n",
    "      kosdaq_all.drop_duplicates('Name').shape)\n",
    "\n",
    "# 코스피: 7952개 / 733개 기업\n",
    "# 코스닥: 12994개 / 1472개 기업"
   ]
  },
  {
   "cell_type": "markdown",
   "metadata": {},
   "source": [
    "---\n",
    "### 코로나 제외해 보자 (일단 패스)"
   ]
  },
  {
   "cell_type": "code",
   "execution_count": null,
   "metadata": {},
   "outputs": [],
   "source": [
    "# kospi_excepted = kospi_all[kospi_all['회계년'].isin(list(range(2012, 2020)))]\n",
    "# kosdaq_excepted = kosdaq_all[kosdaq_all['회계년'].isin(list(range(2012, 2020)))]\n",
    "\n",
    "# print(kospi_excepted.shape, \n",
    "#       kospi_excepted.drop_duplicates('Name').shape, \n",
    "#       kosdaq_excepted.shape, \n",
    "#       kosdaq_excepted.drop_duplicates('Name').shape)\n",
    "\n",
    "# # 코스피: 5188개 / 701개 기업\n",
    "# # 코스닥: 8017개 / 1251개 기업"
   ]
  },
  {
   "cell_type": "markdown",
   "metadata": {},
   "source": [
    "---\n",
    "### 현금흐름/총차입부채(%) 칼럼 결측치 가지는 기업 명단"
   ]
  },
  {
   "cell_type": "code",
   "execution_count": 22,
   "metadata": {},
   "outputs": [
    {
     "data": {
      "text/plain": [
       "array(['BGF리테일', 'BGF', 'CS홀딩스', 'DL이앤씨', 'F&F', 'F&F홀딩스', 'HDC',\n",
       "       'HDC현대산업개발', 'HL만도', 'HS애드', 'KISCO홀딩스', 'KPX홀딩스', 'LG', 'LS에코에너지',\n",
       "       'NHN', 'SJM', 'SJM홀딩스', 'SK스퀘어', 'SNT다이내믹스', 'SNT모티브', 'SNT에너지',\n",
       "       'SNT홀딩스', 'WISCOM', '강남제비스코', '강원랜드', '갤럭시아에스엠', '경동도시가스',\n",
       "       '경동인베스트', '경인전자', '계양전기', '광주신세계', '남양유업', '넷마블', '대교', '대구백화점',\n",
       "       '대덕', '대덕전자', '대웅', '대원제약', '대현', '덕양산업', '동방아그로', '동부건설', '동서',\n",
       "       '동아에스티', '동아타이어', '동양', '동일고무벨트', '동일산업', '동화약품', '두산퓨얼셀',\n",
       "       '롯데관광개발', '롯데웰푸드', '모토닉', '무학', '미래아이앤지', '미원에스씨', '미창석유', '부광약품',\n",
       "       '부국철강', '비비안', '비상교육', '비케이탑스', '빙그레', '삼성E&A', '삼성공조', '삼성출판사',\n",
       "       '삼영무역', '삼원강재', '샘표', '샘표식품', '서연', '서연이화', '성보화학', '성창기업지주',\n",
       "       '세아제강', '세우글로벌', '솔루스첨단소재', '시디즈', '신도리코', '신세계 I&C', '신세계푸드',\n",
       "       '신송홀딩스', '아모레G', '아모레퍼시픽', '아세아', '아세아시멘트', '아시아나IDT', '아이마켓코리아',\n",
       "       '애경케미칼', '에스원', '에어부산', '에이블씨엔씨', 'HDC랩스', 'HD현대건설기계', 'HD현대',\n",
       "       'HD현대일렉트릭', '엔씨소프트', '엘브이엠씨홀딩스', 'LX홀딩스', '영보화학', '영원무역홀딩스', '오리온',\n",
       "       '오리온홀딩스', 'YG PLUS', '우진', '우진아이엔에스', '웅진', '유니드비티플러스', '유성기업',\n",
       "       '유한양행', '이노션', '일동제약', '일성아이에스', '일정실업', '잇츠한불', '제일약품', '조선선재',\n",
       "       '종근당', '종근당홀딩스', '주연테크', '진양홀딩스', '진원생명과학', '천일고속', 'KC그린홀딩스',\n",
       "       '케이씨', 'KCC글라스', '케이씨텍', 'KTcs', 'KTis', '코스맥스', '쿠쿠홀딩스', '크라운제과',\n",
       "       '태경케미컬', '태원물산', '텔코웨어', '티와이홀딩스', '티웨이항공', '퍼시스', '풍산홀딩스',\n",
       "       '플레이그램', '하나투어', '한국단자', '한국쉘석유', '한국앤컴퍼니', '한국종합기술', '한국주강',\n",
       "       '한국철강', '한국카본', '한국콜마', '한국타이어앤테크놀로지', '한국화장품', '한미반도체', '한솔로지스틱스',\n",
       "       '한솔제지', '한올바이오파마', '한일시멘트', '한전KPS', '한진중공업홀딩스', '한진칼', '한창',\n",
       "       '현대리바트', '현대지에프홀딩스', '현대코퍼레이션홀딩스', '현대퓨처넷', '현대홈쇼핑', '화승알앤에이',\n",
       "       '화승엔터프라이즈', '환인제약', '효성중공업', '효성첨단소재', '효성티앤씨', '효성화학'],\n",
       "      dtype=object)"
      ]
     },
     "execution_count": 22,
     "metadata": {},
     "output_type": "execute_result"
    }
   ],
   "source": [
    "import numpy as np\n",
    "kospi_all['현금흐름/총차입부채(%)'].replace('N/A(IFRS)', np.nan, inplace=True)\n",
    "a = kospi_all.loc[kospi_all['현금흐름/총차입부채(%)'].isna()]\n",
    "a['Name'].unique()"
   ]
  },
  {
   "cell_type": "code",
   "execution_count": 23,
   "metadata": {},
   "outputs": [
    {
     "data": {
      "text/plain": [
       "array(['CMG제약', 'ES큐브', 'MDS테크', '강원에너지', '고려시멘트', '고려신용정보', '고영', '골프존',\n",
       "       '국보디자인', '국순당', '국전약품', '글로벌에스엠', '글로본', '금강철강', '금화피에스시', '나무기술',\n",
       "       '나스미디어', '나이스디앤비', '남화산업', '남화토건', '네오셈', '네오위즈', '네오위즈홀딩스', '네이블',\n",
       "       '넥스턴바이오', '넥스트아이', '노바렉스', '노바텍', '농우바이오', '누보', '다보링크', '대동스틸',\n",
       "       '대명소노시즌', '대산F&B', '대아티아이', '대양전기공업', '대원미디어', '대원산업',\n",
       "       'THE MIDONG', '더블유에스아이', '덕산네오룩스', '덕우전자', '데브시스터즈', '덴티스', '동방선기',\n",
       "       '동아엘텍', '동양파일', '동일금속', '동일기연', '듀오백', '드림시큐리티', '디모아', '디앤씨미디어',\n",
       "       'DXVX', '디와이디', '디이엔티', '디지털대성', '디지틀조선', '딜리', '러셀', '로보로보',\n",
       "       '로스웰', '로지시스', '룽투코리아', '리노공업', '매일유업', '매일홀딩스', '멀티캠퍼스', '메가스터디',\n",
       "       '메가스터디교육', '메가엠디', '메디아나', '메디포스트', '메디프론', '메지온', '모두투어', '모베이스',\n",
       "       '모코엠시스', '모헨즈', '미래생명자원', '바이오솔루션', '밸로프', '버킷스튜디오', '본느', '부스타',\n",
       "       '부방', '뷰웍스', '브리지텍', '블레이드 Ent', '블루콤', '비아트론', 'BF랩스', '모아라이프플러스',\n",
       "       '비즈니스온', '비투엔', '빅솔론', '빛샘전자', '사람인', '삼목에스폼', '삼아제약', '삼일기업공사',\n",
       "       '삼진', '삼현철강', '삼화네트웍스', '서산', '서암기계공업', '서울리거', '서원인텍', '서전기전',\n",
       "       '서호전기', '성광벤드', '성우전자', '세보엠이씨', '세운메디칼', '세원물산', '세진티에스', '세화피앤씨',\n",
       "       '셀리버리', '셀바스헬스케어', '소프트캠프', '솔본', '솔브레인', '솔트웨어', '쇼박스', '수산아이앤티',\n",
       "       '슈프리마', '슈프리마에이치큐', '슈피겐코리아', '스마트솔루션즈', '스카이문스테크놀로지', '스튜디오드래곤',\n",
       "       '스피어파워', '시공테크', '시큐브', '심텍', '썸에이지', '쎄트렉아이', '쎌바이오텍', 'CS',\n",
       "       '씨티케이', '아나패스', '아리온', '아미코젠', '아바코', '아바텍', '아비코전자', '아스타',\n",
       "       '아시아경제', '아이디스', '아이앤씨', 'ISC', 'iMBC', '아이즈비전', '아이진', '안랩',\n",
       "       '안트로젠', '알서포트', '알테오젠', '알티캐스트', '애니젠', '액션스퀘어', '액토즈소프트',\n",
       "       '어보브반도체', '얼라인드', '에너토크', '에스디시스템', '에스씨디', 'SCI평가정보', '에스아이리소스',\n",
       "       '에스앤더블류', '에스에이티', '에스에이티이엔지', '에스에프에이', 'S&K폴리텍',\n",
       "       'SM Life Design', 'SGA솔루션즈', '에스텍', '에이스침대', 'HLB파나진', '에이치엘사이언스',\n",
       "       '에이텍모빌리티', 'AP시스템', 'AP위성', '에이피티씨', '에코마케팅', '에코프로에이치엔', '에프알텍',\n",
       "       '에프엔씨엔터', '엑스큐어', 'NHN벅스', 'NHN KCP', 'NE능률', '엔텔스', '엔투텍', '엔피',\n",
       "       '엘디티', '엘오티베큠', '엘컴텍', '엠투아이', '영풍정밀', '오가닉티코스메틱', '오디텍', '오리콤',\n",
       "       '오하임앤컴퍼니', '옵투스제약', 'YW', '와이아이케이', '와이엠텍', '와이즈버즈', '와이지엔터테인먼트',\n",
       "       '와토스코리아', '우리산업', '우림피티에스', '우원개발', '원바이오젠', '원익IPS', '원풍', '웨이버스',\n",
       "       '웹젠', '위메이드', '위메이드맥스', '위메이드플레이', '위즈코프', '윈스', '윙입푸드', '유라테크',\n",
       "       '유비케어', '유비쿼스', '유비쿼스홀딩스', '유아이엘', '유진테크', '이글루', '이노와이어리스',\n",
       "       '이녹스첨단소재', '이니텍', '이라이콤', '이랜시스', '이미지스', '이스트아시아홀딩스', '이엘피',\n",
       "       '이엠넷', '이지바이오', '이크레더블', '이트론', '이퓨쳐', '이화공영', '인바디', '인지소프트',\n",
       "       '인콘', '인크로스', '인포바인', '인포뱅크', '일신바이오', '자비스', '자이글', '정상제이엘에스',\n",
       "       '제이스텍', '제이시스메디칼', '제이엠티', 'JYP Ent.', '젬백스링크', '조이시티', '제노포커스',\n",
       "       '줌인터넷', '지니뮤직', '지니언스', '지더블유바이텍', '지란지교시큐리티', '지씨셀', '지엘팜텍',\n",
       "       '지오릿에너지', '진양제약', '차바이오텍', '크리스탈신소재', '초록뱀미디어', '칩스앤미디어', '컬러레이',\n",
       "       '컴투스', '케어젠', '골든센츄리', '케이씨에스', '케이씨티', '케이아이엔엑스', 'KH 건설', 'KH바텍',\n",
       "       'KH 전자', 'KNN', '케이엘넷', 'KG이니시스', '케이티알파', '켐트로스', '코닉오토메이션',\n",
       "       '코데즈컴바인', '코스메카코리아', '코스텍시스', '코아스템켐온', '코아시아', '코아시아씨엠', '코엔텍',\n",
       "       '코콤', '코텍', '콜마비앤에이치', '큐리언트', '큐브엔터', '큐에스아이', '크레버스', '클래시스',\n",
       "       '키네마스터', '키이스트', '타이거일렉', '탑코미디어', '태광', '태성', '테고사이언스', '텔레칩스',\n",
       "       '토박스코리아', '투비소프트', '티비씨', '티씨케이', '티앤알바이오팹', '티에스이', '티엘아이',\n",
       "       'TJ미디어', '파라다이스', '파라텍', '파마리서치', '파이오링크', '파인디지털', '파인엠텍',\n",
       "       '파크시스템스', '패션플랫폼', '팬젠', '폴라리스오피스', '폴라리스우노', '푸드나무', '풍국주정',\n",
       "       '프로이천', '프로텍', '프리엠스', '플랜티넷', '피씨엘', '피에스케이', '피에스케이홀딩스', '픽셀플러스',\n",
       "       '하이드로리튬', '하이딥', '하이로닉', '하이록코리아', '하이텍팜', '하츠', '한국경제TV',\n",
       "       '한국기업평가', '한국알콜', '한국전자인증', '한국정보인증', '한국컴퓨터', '한국큐빅', '한글과컴퓨터',\n",
       "       '한독크린텍', '한빛소프트', '한송네오텍', '한양이엔지', '한창산업', '해성산업', '헝셩그룹', '현대공업',\n",
       "       '현대에이치티', '현대이지웰', '협진', '화신정공', '휴네시온', '휴림네트웍스', '휴림에이텍', '휴마시스',\n",
       "       '휴맥스홀딩스', '휴센텍', '휴온스'], dtype=object)"
      ]
     },
     "execution_count": 23,
     "metadata": {},
     "output_type": "execute_result"
    }
   ],
   "source": [
    "kosdaq_all['현금흐름/총차입부채(%)'].replace('N/A(IFRS)', np.nan, inplace=True)\n",
    "b = kosdaq_all.loc[kosdaq_all['현금흐름/총차입부채(%)'].isna()]\n",
    "b['Name'].unique()"
   ]
  },
  {
   "cell_type": "markdown",
   "metadata": {},
   "source": [
    "---\n",
    "### 현금흐름/총차입부채(%) 칼럼 지우기"
   ]
  },
  {
   "cell_type": "code",
   "execution_count": 24,
   "metadata": {},
   "outputs": [],
   "source": [
    "kospi_all.drop('현금흐름/총차입부채(%)', axis=1, inplace=True)\n",
    "kosdaq_all.drop('현금흐름/총차입부채(%)', axis=1, inplace=True)"
   ]
  },
  {
   "cell_type": "markdown",
   "metadata": {},
   "source": [
    "---\n",
    "### 결측치 / 무한대 값 처리\n",
    "- 결측치(N/A(IFRS) 포함) 제거\n",
    "- 무한대 값 (inf/-inf) -> 결측치 -> 제거"
   ]
  },
  {
   "cell_type": "code",
   "execution_count": 25,
   "metadata": {},
   "outputs": [],
   "source": [
    "kospi_all.replace('N/A(IFRS)', np.nan, inplace=True)"
   ]
  },
  {
   "cell_type": "code",
   "execution_count": 26,
   "metadata": {},
   "outputs": [
    {
     "data": {
      "text/plain": [
       "Symbol                 0\n",
       "상장연도                   0\n",
       "Name                   0\n",
       "회계년                    0\n",
       "매출총이익률(%)             19\n",
       "영업이익률(%)              19\n",
       "당기순이익률(%)             19\n",
       "자본금영업이익률(%)           57\n",
       "영업수익/영업비용(%)          11\n",
       "세전계속사업이익률(%)          19\n",
       "자본금세전계속사업이익률(%)       57\n",
       "자본금지배주주순이익률(%)        57\n",
       "매출액증가율(전년동기)(%)       66\n",
       "영업이익증가율(전년동기)(%)      57\n",
       "당기순이익증가율(전년동기)(%)     57\n",
       "총자본증가율(전년동기)(%)       57\n",
       "유형자산증가율(전년동기)(%)      77\n",
       "부채비율(%)               11\n",
       "유동비율(%)               11\n",
       "당좌비율(%)               11\n",
       "현금비율(%)               11\n",
       "유형자산구성비율(%)           11\n",
       "무형자산구성비율(%)           11\n",
       "판관비율(%)               11\n",
       "타인자본비율(%)             11\n",
       "총자산회전율(회)             57\n",
       "매출채권회전율               57\n",
       "재고자산회전율               57\n",
       "총부채회전율(회)             57\n",
       "총자본회전율(회)             57\n",
       "자본금회전율(회)             57\n",
       "고정자산회전율               46\n",
       "현금흐름/총부채(%)           57\n",
       "현금흐름/영업수익(%)          19\n",
       "현금흐름/총자본(%)           57\n",
       "영업/투자 현금흐름 비율         11\n",
       "DSRI                 307\n",
       "GMI                   70\n",
       "AQI                   57\n",
       "SGI                   58\n",
       "DEPI                  69\n",
       "SGAI                  58\n",
       "LVGI                  57\n",
       "TATA                  11\n",
       "벤포드                    0\n",
       "분식기업                   0\n",
       "dtype: int64"
      ]
     },
     "execution_count": 26,
     "metadata": {},
     "output_type": "execute_result"
    }
   ],
   "source": [
    "kospi_all.isna().sum()"
   ]
  },
  {
   "cell_type": "code",
   "execution_count": 27,
   "metadata": {},
   "outputs": [
    {
     "data": {
      "text/plain": [
       "Symbol                 0\n",
       "상장연도                   0\n",
       "Name                   0\n",
       "회계년                    0\n",
       "매출총이익률(%)              0\n",
       "영업이익률(%)               0\n",
       "당기순이익률(%)              0\n",
       "자본금영업이익률(%)            0\n",
       "영업수익/영업비용(%)           0\n",
       "세전계속사업이익률(%)           0\n",
       "자본금세전계속사업이익률(%)        0\n",
       "자본금지배주주순이익률(%)         0\n",
       "매출액증가율(전년동기)(%)        0\n",
       "영업이익증가율(전년동기)(%)       0\n",
       "당기순이익증가율(전년동기)(%)      0\n",
       "총자본증가율(전년동기)(%)        0\n",
       "유형자산증가율(전년동기)(%)       5\n",
       "부채비율(%)                0\n",
       "유동비율(%)                0\n",
       "당좌비율(%)                0\n",
       "현금비율(%)                0\n",
       "유형자산구성비율(%)            0\n",
       "무형자산구성비율(%)            0\n",
       "판관비율(%)                8\n",
       "타인자본비율(%)              0\n",
       "총자산회전율(회)              0\n",
       "매출채권회전율              246\n",
       "재고자산회전율              699\n",
       "총부채회전율(회)              0\n",
       "총자본회전율(회)              0\n",
       "자본금회전율(회)              0\n",
       "고정자산회전율                0\n",
       "현금흐름/총부채(%)            0\n",
       "현금흐름/영업수익(%)           0\n",
       "현금흐름/총자본(%)            0\n",
       "영업/투자 현금흐름 비율          0\n",
       "DSRI                  40\n",
       "GMI                    0\n",
       "AQI                    0\n",
       "SGI                    8\n",
       "DEPI                   0\n",
       "SGAI                   6\n",
       "LVGI                   0\n",
       "TATA                   0\n",
       "벤포드                    0\n",
       "분식기업                   0\n",
       "dtype: int64"
      ]
     },
     "execution_count": 27,
     "metadata": {},
     "output_type": "execute_result"
    }
   ],
   "source": [
    "kospi_all.isin([np.inf, -np.inf]).sum()"
   ]
  },
  {
   "cell_type": "code",
   "execution_count": 28,
   "metadata": {},
   "outputs": [],
   "source": [
    "# 무한대 값을 결측치로 대체\n",
    "kospi_all.replace([np.inf, -np.inf], 0, inplace=True)\n",
    "\n",
    "# 결측치를 가지는 행 제거\n",
    "kospi_all.dropna(axis=0, inplace=True)"
   ]
  },
  {
   "cell_type": "code",
   "execution_count": 29,
   "metadata": {},
   "outputs": [
    {
     "data": {
      "text/plain": [
       "Symbol               0\n",
       "상장연도                 0\n",
       "Name                 0\n",
       "회계년                  0\n",
       "매출총이익률(%)            0\n",
       "영업이익률(%)             0\n",
       "당기순이익률(%)            0\n",
       "자본금영업이익률(%)          0\n",
       "영업수익/영업비용(%)         0\n",
       "세전계속사업이익률(%)         0\n",
       "자본금세전계속사업이익률(%)      0\n",
       "자본금지배주주순이익률(%)       0\n",
       "매출액증가율(전년동기)(%)      0\n",
       "영업이익증가율(전년동기)(%)     0\n",
       "당기순이익증가율(전년동기)(%)    0\n",
       "총자본증가율(전년동기)(%)      0\n",
       "유형자산증가율(전년동기)(%)     0\n",
       "부채비율(%)              0\n",
       "유동비율(%)              0\n",
       "당좌비율(%)              0\n",
       "현금비율(%)              0\n",
       "유형자산구성비율(%)          0\n",
       "무형자산구성비율(%)          0\n",
       "판관비율(%)              0\n",
       "타인자본비율(%)            0\n",
       "총자산회전율(회)            0\n",
       "매출채권회전율              0\n",
       "재고자산회전율              0\n",
       "총부채회전율(회)            0\n",
       "총자본회전율(회)            0\n",
       "자본금회전율(회)            0\n",
       "고정자산회전율              0\n",
       "현금흐름/총부채(%)          0\n",
       "현금흐름/영업수익(%)         0\n",
       "현금흐름/총자본(%)          0\n",
       "영업/투자 현금흐름 비율        0\n",
       "DSRI                 0\n",
       "GMI                  0\n",
       "AQI                  0\n",
       "SGI                  0\n",
       "DEPI                 0\n",
       "SGAI                 0\n",
       "LVGI                 0\n",
       "TATA                 0\n",
       "벤포드                  0\n",
       "분식기업                 0\n",
       "dtype: int64"
      ]
     },
     "execution_count": 29,
     "metadata": {},
     "output_type": "execute_result"
    }
   ],
   "source": [
    "kospi_all.isna().sum()"
   ]
  },
  {
   "cell_type": "code",
   "execution_count": 30,
   "metadata": {},
   "outputs": [
    {
     "name": "stdout",
     "output_type": "stream",
     "text": [
      "(7045, 46) (713, 46)\n"
     ]
    }
   ],
   "source": [
    "print(kospi_all.shape, \n",
    "      kospi_all.drop_duplicates('Name').shape)\n",
    "\n",
    "# 코스피: 7045개 / 713개 기업"
   ]
  },
  {
   "cell_type": "code",
   "execution_count": 31,
   "metadata": {},
   "outputs": [],
   "source": [
    "kosdaq_all.replace('N/A(IFRS)', np.nan, inplace=True)"
   ]
  },
  {
   "cell_type": "code",
   "execution_count": 32,
   "metadata": {},
   "outputs": [
    {
     "data": {
      "text/plain": [
       "Symbol                 0\n",
       "상장연도                   0\n",
       "Name                   0\n",
       "회계년                    0\n",
       "매출총이익률(%)            108\n",
       "영업이익률(%)             108\n",
       "당기순이익률(%)            108\n",
       "자본금영업이익률(%)          145\n",
       "영업수익/영업비용(%)          79\n",
       "세전계속사업이익률(%)         108\n",
       "자본금세전계속사업이익률(%)      145\n",
       "자본금지배주주순이익률(%)       145\n",
       "매출액증가율(전년동기)(%)      143\n",
       "영업이익증가율(전년동기)(%)     124\n",
       "당기순이익증가율(전년동기)(%)    124\n",
       "총자본증가율(전년동기)(%)      124\n",
       "유형자산증가율(전년동기)(%)     130\n",
       "부채비율(%)               80\n",
       "유동비율(%)               89\n",
       "당좌비율(%)               89\n",
       "현금비율(%)               89\n",
       "유형자산구성비율(%)           80\n",
       "무형자산구성비율(%)           80\n",
       "판관비율(%)               79\n",
       "타인자본비율(%)             80\n",
       "총자산회전율(회)            145\n",
       "매출채권회전율              155\n",
       "재고자산회전율              157\n",
       "총부채회전율(회)            145\n",
       "총자본회전율(회)            145\n",
       "자본금회전율(회)            145\n",
       "고정자산회전율               67\n",
       "현금흐름/총부채(%)          145\n",
       "현금흐름/영업수익(%)         108\n",
       "현금흐름/총자본(%)          145\n",
       "영업/투자 현금흐름 비율         79\n",
       "DSRI                 220\n",
       "GMI                  181\n",
       "AQI                  135\n",
       "SGI                  143\n",
       "DEPI                 128\n",
       "SGAI                 147\n",
       "LVGI                 135\n",
       "TATA                  78\n",
       "벤포드                    0\n",
       "분식기업                   0\n",
       "dtype: int64"
      ]
     },
     "execution_count": 32,
     "metadata": {},
     "output_type": "execute_result"
    }
   ],
   "source": [
    "kosdaq_all.isna().sum()"
   ]
  },
  {
   "cell_type": "code",
   "execution_count": 33,
   "metadata": {},
   "outputs": [
    {
     "data": {
      "text/plain": [
       "Symbol                  0\n",
       "상장연도                    0\n",
       "Name                    0\n",
       "회계년                     0\n",
       "매출총이익률(%)               0\n",
       "영업이익률(%)                0\n",
       "당기순이익률(%)               0\n",
       "자본금영업이익률(%)             0\n",
       "영업수익/영업비용(%)            0\n",
       "세전계속사업이익률(%)            0\n",
       "자본금세전계속사업이익률(%)         0\n",
       "자본금지배주주순이익률(%)          0\n",
       "매출액증가율(전년동기)(%)        18\n",
       "영업이익증가율(전년동기)(%)        3\n",
       "당기순이익증가율(전년동기)(%)       2\n",
       "총자본증가율(전년동기)(%)         0\n",
       "유형자산증가율(전년동기)(%)        8\n",
       "부채비율(%)                 0\n",
       "유동비율(%)                 0\n",
       "당좌비율(%)                 0\n",
       "현금비율(%)                 0\n",
       "유형자산구성비율(%)             0\n",
       "무형자산구성비율(%)             0\n",
       "판관비율(%)                27\n",
       "타인자본비율(%)               0\n",
       "총자산회전율(회)               0\n",
       "매출채권회전율                59\n",
       "재고자산회전율              1223\n",
       "총부채회전율(회)               0\n",
       "총자본회전율(회)               0\n",
       "자본금회전율(회)               0\n",
       "고정자산회전율                 0\n",
       "현금흐름/총부채(%)             0\n",
       "현금흐름/영업수익(%)            0\n",
       "현금흐름/총자본(%)             0\n",
       "영업/투자 현금흐름 비율           0\n",
       "DSRI                   61\n",
       "GMI                     0\n",
       "AQI                     1\n",
       "SGI                    18\n",
       "DEPI                    0\n",
       "SGAI                    8\n",
       "LVGI                    0\n",
       "TATA                    0\n",
       "벤포드                     0\n",
       "분식기업                    0\n",
       "dtype: int64"
      ]
     },
     "execution_count": 33,
     "metadata": {},
     "output_type": "execute_result"
    }
   ],
   "source": [
    "kosdaq_all.isin([np.inf, -np.inf]).sum()"
   ]
  },
  {
   "cell_type": "code",
   "execution_count": 34,
   "metadata": {},
   "outputs": [],
   "source": [
    "# 무한대 값을 결측치로 대체\n",
    "kosdaq_all.replace([np.inf, -np.inf], 0, inplace=True)\n",
    "\n",
    "# 결측치를 가지는 행 제거\n",
    "kosdaq_all.dropna(axis=0, inplace=True)"
   ]
  },
  {
   "cell_type": "code",
   "execution_count": 35,
   "metadata": {},
   "outputs": [
    {
     "data": {
      "text/plain": [
       "Symbol               0\n",
       "상장연도                 0\n",
       "Name                 0\n",
       "회계년                  0\n",
       "매출총이익률(%)            0\n",
       "영업이익률(%)             0\n",
       "당기순이익률(%)            0\n",
       "자본금영업이익률(%)          0\n",
       "영업수익/영업비용(%)         0\n",
       "세전계속사업이익률(%)         0\n",
       "자본금세전계속사업이익률(%)      0\n",
       "자본금지배주주순이익률(%)       0\n",
       "매출액증가율(전년동기)(%)      0\n",
       "영업이익증가율(전년동기)(%)     0\n",
       "당기순이익증가율(전년동기)(%)    0\n",
       "총자본증가율(전년동기)(%)      0\n",
       "유형자산증가율(전년동기)(%)     0\n",
       "부채비율(%)              0\n",
       "유동비율(%)              0\n",
       "당좌비율(%)              0\n",
       "현금비율(%)              0\n",
       "유형자산구성비율(%)          0\n",
       "무형자산구성비율(%)          0\n",
       "판관비율(%)              0\n",
       "타인자본비율(%)            0\n",
       "총자산회전율(회)            0\n",
       "매출채권회전율              0\n",
       "재고자산회전율              0\n",
       "총부채회전율(회)            0\n",
       "총자본회전율(회)            0\n",
       "자본금회전율(회)            0\n",
       "고정자산회전율              0\n",
       "현금흐름/총부채(%)          0\n",
       "현금흐름/영업수익(%)         0\n",
       "현금흐름/총자본(%)          0\n",
       "영업/투자 현금흐름 비율        0\n",
       "DSRI                 0\n",
       "GMI                  0\n",
       "AQI                  0\n",
       "SGI                  0\n",
       "DEPI                 0\n",
       "SGAI                 0\n",
       "LVGI                 0\n",
       "TATA                 0\n",
       "벤포드                  0\n",
       "분식기업                 0\n",
       "dtype: int64"
      ]
     },
     "execution_count": 35,
     "metadata": {},
     "output_type": "execute_result"
    }
   ],
   "source": [
    "kosdaq_all.isna().sum()"
   ]
  },
  {
   "cell_type": "code",
   "execution_count": 36,
   "metadata": {},
   "outputs": [
    {
     "name": "stdout",
     "output_type": "stream",
     "text": [
      "(11931, 46) (1449, 46)\n"
     ]
    }
   ],
   "source": [
    "print(kosdaq_all.shape, \n",
    "      kosdaq_all.drop_duplicates('Name').shape)\n",
    "\n",
    "# 코스닥: 11931개 / 1449개 기업"
   ]
  },
  {
   "cell_type": "code",
   "execution_count": 37,
   "metadata": {},
   "outputs": [],
   "source": [
    "# <<최종>>\n",
    "# 코스피: 7045개 / 713개 기업\n",
    "# 코스닥: 11931개 / 1449개 기업"
   ]
  },
  {
   "cell_type": "markdown",
   "metadata": {},
   "source": [
    "---\n",
    "### 다듬기"
   ]
  },
  {
   "cell_type": "code",
   "execution_count": null,
   "metadata": {},
   "outputs": [],
   "source": [
    "kospi_all.columns"
   ]
  },
  {
   "cell_type": "code",
   "execution_count": null,
   "metadata": {},
   "outputs": [],
   "source": [
    "kospi_all.rename(columns ={'매출채권회전율':'매출채권회전율(회)', \n",
    "                           '재고자산회전율':'재고자산회전율(회)', \n",
    "                           '고정자산회전율':'고정자산회전율(회)', \n",
    "                           '영업/투자 현금흐름 비율':'영업현금흐름/투자현금흐름(%)'}, inplace=True)"
   ]
  },
  {
   "cell_type": "code",
   "execution_count": null,
   "metadata": {},
   "outputs": [],
   "source": [
    "kosdaq_all.rename(columns ={'매출채권회전율':'매출채권회전율(회)', \n",
    "                            '재고자산회전율':'재고자산회전율(회)', \n",
    "                            '고정자산회전율':'고정자산회전율(회)', \n",
    "                            '영업/투자 현금흐름 비율':'영업현금흐름/투자현금흐름(%)'}, inplace=True)"
   ]
  },
  {
   "cell_type": "code",
   "execution_count": null,
   "metadata": {},
   "outputs": [],
   "source": [
    "kospi_all = kospi_all.round(2)\n",
    "kosdaq_all = kosdaq_all.round(2)"
   ]
  },
  {
   "cell_type": "code",
   "execution_count": null,
   "metadata": {},
   "outputs": [],
   "source": [
    "kospi_all.dtypes"
   ]
  },
  {
   "cell_type": "code",
   "execution_count": null,
   "metadata": {},
   "outputs": [],
   "source": [
    "# 'Symbol', 'Name', '회계년' 칼럼을 제외하고 모든 칼럼 내 데이터를 숫자형으로 변경\n",
    "for column in kospi_all.columns:\n",
    "    if column not in ['Symbol', 'Name', '회계년']:\n",
    "        if kospi_all[column].dtype == 'object':  # 문자열 열인 경우에만 처리\n",
    "            kospi_all[column] = kospi_all[column].str.replace(',', '')\n",
    "            kospi_all[column] = kospi_all[column].astype(float)\n",
    "        \n",
    "# # 'Symbol', 'Name', '회계년' 칼럼 내 데이터를 문자형으로 변경\n",
    "# for column in ['Symbol', 'Name', '회계년']:\n",
    "#     kospi_all[column] = kospi_all[column].astype('str')"
   ]
  },
  {
   "cell_type": "code",
   "execution_count": null,
   "metadata": {},
   "outputs": [],
   "source": [
    "# 'Symbol', 'Name', '회계년' 칼럼을 제외하고 모든 칼럼 내 데이터를 숫자형으로 변경\n",
    "for column in kosdaq_all.columns:\n",
    "    if column not in ['Symbol', 'Name', '회계년']:\n",
    "        if kosdaq_all[column].dtype == 'object':  # 문자열 열인 경우에만 처리\n",
    "            kosdaq_all[column] = kosdaq_all[column].str.replace(',', '')\n",
    "            kosdaq_all[column] = kosdaq_all[column].astype(float)\n",
    "        \n",
    "# # 'Symbol', 'Name', '회계년' 칼럼 내 데이터를 문자형으로 변경\n",
    "# for column in ['Symbol', 'Name', '회계년']:\n",
    "#     kosdaq_all[column] = kosdaq_all[column].astype('str')"
   ]
  },
  {
   "cell_type": "markdown",
   "metadata": {},
   "source": [
    "---\n",
    "### csv로 저장"
   ]
  },
  {
   "cell_type": "code",
   "execution_count": null,
   "metadata": {},
   "outputs": [],
   "source": [
    "kospi_all.to_csv('./정제 데이터/코스피.csv', index=False)\n",
    "kosdaq_all.to_csv('./정제 데이터/코스닥.csv', index=False)"
   ]
  },
  {
   "cell_type": "code",
   "execution_count": null,
   "metadata": {},
   "outputs": [],
   "source": []
  }
 ],
 "metadata": {
  "kernelspec": {
   "display_name": "base",
   "language": "python",
   "name": "python3"
  },
  "language_info": {
   "codemirror_mode": {
    "name": "ipython",
    "version": 3
   },
   "file_extension": ".py",
   "mimetype": "text/x-python",
   "name": "python",
   "nbconvert_exporter": "python",
   "pygments_lexer": "ipython3",
   "version": "3.11.5"
  }
 },
 "nbformat": 4,
 "nbformat_minor": 2
}
