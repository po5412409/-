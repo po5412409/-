{
 "cells": [
  {
   "cell_type": "code",
   "execution_count": 1,
   "metadata": {},
   "outputs": [],
   "source": [
    "import pandas as pd\n",
    "import numpy as np\n",
    "from sklearn.model_selection import train_test_split\n",
    "# from sklearn.preprocessing import StandardScaler, MinMaxScaler, RobustScaler, MaxAbsScaler\n",
    "# from imblearn.over_sampling import SMOTE\n",
    "# from imblearn.under_sampling import RandomUnderSampler\n",
    "from sklearn.model_selection import KFold, GridSearchCV\n",
    "from sklearn.metrics import accuracy_score, precision_score, recall_score, f1_score, confusion_matrix\n",
    "from sklearn.linear_model import LogisticRegression\n",
    "from sklearn.tree import DecisionTreeClassifier\n",
    "from sklearn.ensemble import RandomForestClassifier, GradientBoostingClassifier, AdaBoostClassifier\n",
    "from xgboost import XGBClassifier\n",
    "from lightgbm import LGBMClassifier\n",
    "from catboost import CatBoostClassifier\n",
    "from imblearn.ensemble import RUSBoostClassifier\n",
    "from sklearn.svm import SVC"
   ]
  },
  {
   "cell_type": "code",
   "execution_count": 2,
   "metadata": {},
   "outputs": [],
   "source": [
    "# 데이터 로드\n",
    "data = pd.read_csv('datasets/코스피이상치99%처리.csv')\n",
    "\n",
    "# 타겟 변수 및 피처 선택\n",
    "X = data[['당기순이익률(%)', \n",
    "          '총자본증가율(전년동기)(%)', \n",
    "          '무형자산구성비율(%)', '타인자본비율(%)', '당좌비율(%)', \n",
    "          '매출채권회전율(회)', \n",
    "          '영업현금흐름/투자현금흐름(%)', \n",
    "          'SGAI']]\n",
    "y = data['분식기업']\n",
    "\n",
    "# 수치형 피처만 선택\n",
    "X_numeric = X.select_dtypes(include=[np.number])\n",
    "\n",
    "# 트레인/테스트 셋 분리 (벤포드 항목 포함)\n",
    "X_train, X_test, y_train, y_test = train_test_split(X_numeric, y, test_size=0.2, random_state=42, stratify=y)"
   ]
  },
  {
   "cell_type": "code",
   "execution_count": 3,
   "metadata": {},
   "outputs": [],
   "source": [
    "from sklearn.utils.class_weight import compute_sample_weight\n",
    "from sklearn.preprocessing import StandardScaler\n",
    "from imblearn.over_sampling import SMOTE\n",
    "from imblearn.under_sampling import RandomUnderSampler\n",
    "standard = StandardScaler()\n",
    "X_train_scaled = standard.fit_transform(X_train)\n",
    "\n",
    "ratios = {\n",
    "    'under': [0.1, 0.3]}\n",
    "results = {}\n",
    "\n",
    "# 각 리샘플링 비율에 대해 모델 훈련 및 성능 평가\n",
    "for method, ratios_list in ratios.items():\n",
    "    for ratio in ratios_list:\n",
    "        resampled_data = {}\n",
    "        if method == 'under':\n",
    "            sampler = RandomUnderSampler(sampling_strategy=ratio, random_state=42)\n",
    "        else:\n",
    "            sampler = SMOTE(sampling_strategy=ratio, random_state=42)\n",
    "\n",
    "        final_X_train, final_y_train = sampler.fit_resample(X_train_scaled, y_train)\n"
   ]
  },
  {
   "cell_type": "code",
   "execution_count": 4,
   "metadata": {},
   "outputs": [
    {
     "data": {
      "text/html": [
       "<style>#sk-container-id-1 {color: black;background-color: white;}#sk-container-id-1 pre{padding: 0;}#sk-container-id-1 div.sk-toggleable {background-color: white;}#sk-container-id-1 label.sk-toggleable__label {cursor: pointer;display: block;width: 100%;margin-bottom: 0;padding: 0.3em;box-sizing: border-box;text-align: center;}#sk-container-id-1 label.sk-toggleable__label-arrow:before {content: \"▸\";float: left;margin-right: 0.25em;color: #696969;}#sk-container-id-1 label.sk-toggleable__label-arrow:hover:before {color: black;}#sk-container-id-1 div.sk-estimator:hover label.sk-toggleable__label-arrow:before {color: black;}#sk-container-id-1 div.sk-toggleable__content {max-height: 0;max-width: 0;overflow: hidden;text-align: left;background-color: #f0f8ff;}#sk-container-id-1 div.sk-toggleable__content pre {margin: 0.2em;color: black;border-radius: 0.25em;background-color: #f0f8ff;}#sk-container-id-1 input.sk-toggleable__control:checked~div.sk-toggleable__content {max-height: 200px;max-width: 100%;overflow: auto;}#sk-container-id-1 input.sk-toggleable__control:checked~label.sk-toggleable__label-arrow:before {content: \"▾\";}#sk-container-id-1 div.sk-estimator input.sk-toggleable__control:checked~label.sk-toggleable__label {background-color: #d4ebff;}#sk-container-id-1 div.sk-label input.sk-toggleable__control:checked~label.sk-toggleable__label {background-color: #d4ebff;}#sk-container-id-1 input.sk-hidden--visually {border: 0;clip: rect(1px 1px 1px 1px);clip: rect(1px, 1px, 1px, 1px);height: 1px;margin: -1px;overflow: hidden;padding: 0;position: absolute;width: 1px;}#sk-container-id-1 div.sk-estimator {font-family: monospace;background-color: #f0f8ff;border: 1px dotted black;border-radius: 0.25em;box-sizing: border-box;margin-bottom: 0.5em;}#sk-container-id-1 div.sk-estimator:hover {background-color: #d4ebff;}#sk-container-id-1 div.sk-parallel-item::after {content: \"\";width: 100%;border-bottom: 1px solid gray;flex-grow: 1;}#sk-container-id-1 div.sk-label:hover label.sk-toggleable__label {background-color: #d4ebff;}#sk-container-id-1 div.sk-serial::before {content: \"\";position: absolute;border-left: 1px solid gray;box-sizing: border-box;top: 0;bottom: 0;left: 50%;z-index: 0;}#sk-container-id-1 div.sk-serial {display: flex;flex-direction: column;align-items: center;background-color: white;padding-right: 0.2em;padding-left: 0.2em;position: relative;}#sk-container-id-1 div.sk-item {position: relative;z-index: 1;}#sk-container-id-1 div.sk-parallel {display: flex;align-items: stretch;justify-content: center;background-color: white;position: relative;}#sk-container-id-1 div.sk-item::before, #sk-container-id-1 div.sk-parallel-item::before {content: \"\";position: absolute;border-left: 1px solid gray;box-sizing: border-box;top: 0;bottom: 0;left: 50%;z-index: -1;}#sk-container-id-1 div.sk-parallel-item {display: flex;flex-direction: column;z-index: 1;position: relative;background-color: white;}#sk-container-id-1 div.sk-parallel-item:first-child::after {align-self: flex-end;width: 50%;}#sk-container-id-1 div.sk-parallel-item:last-child::after {align-self: flex-start;width: 50%;}#sk-container-id-1 div.sk-parallel-item:only-child::after {width: 0;}#sk-container-id-1 div.sk-dashed-wrapped {border: 1px dashed gray;margin: 0 0.4em 0.5em 0.4em;box-sizing: border-box;padding-bottom: 0.4em;background-color: white;}#sk-container-id-1 div.sk-label label {font-family: monospace;font-weight: bold;display: inline-block;line-height: 1.2em;}#sk-container-id-1 div.sk-label-container {text-align: center;}#sk-container-id-1 div.sk-container {/* jupyter's `normalize.less` sets `[hidden] { display: none; }` but bootstrap.min.css set `[hidden] { display: none !important; }` so we also need the `!important` here to be able to override the default hidden behavior on the sphinx rendered scikit-learn.org. See: https://github.com/scikit-learn/scikit-learn/issues/21755 */display: inline-block !important;position: relative;}#sk-container-id-1 div.sk-text-repr-fallback {display: none;}</style><div id=\"sk-container-id-1\" class=\"sk-top-container\"><div class=\"sk-text-repr-fallback\"><pre>GridSearchCV(cv=KFold(n_splits=5, random_state=42, shuffle=True),\n",
       "             estimator=GradientBoostingClassifier(), n_jobs=-1,\n",
       "             param_grid={&#x27;learning_rate&#x27;: [0.01, 0.1, 0.2],\n",
       "                         &#x27;n_estimators&#x27;: [50, 100, 150], &#x27;random_state&#x27;: [42]},\n",
       "             scoring=&#x27;recall&#x27;)</pre><b>In a Jupyter environment, please rerun this cell to show the HTML representation or trust the notebook. <br />On GitHub, the HTML representation is unable to render, please try loading this page with nbviewer.org.</b></div><div class=\"sk-container\" hidden><div class=\"sk-item sk-dashed-wrapped\"><div class=\"sk-label-container\"><div class=\"sk-label sk-toggleable\"><input class=\"sk-toggleable__control sk-hidden--visually\" id=\"sk-estimator-id-1\" type=\"checkbox\" ><label for=\"sk-estimator-id-1\" class=\"sk-toggleable__label sk-toggleable__label-arrow\">GridSearchCV</label><div class=\"sk-toggleable__content\"><pre>GridSearchCV(cv=KFold(n_splits=5, random_state=42, shuffle=True),\n",
       "             estimator=GradientBoostingClassifier(), n_jobs=-1,\n",
       "             param_grid={&#x27;learning_rate&#x27;: [0.01, 0.1, 0.2],\n",
       "                         &#x27;n_estimators&#x27;: [50, 100, 150], &#x27;random_state&#x27;: [42]},\n",
       "             scoring=&#x27;recall&#x27;)</pre></div></div></div><div class=\"sk-parallel\"><div class=\"sk-parallel-item\"><div class=\"sk-item\"><div class=\"sk-label-container\"><div class=\"sk-label sk-toggleable\"><input class=\"sk-toggleable__control sk-hidden--visually\" id=\"sk-estimator-id-2\" type=\"checkbox\" ><label for=\"sk-estimator-id-2\" class=\"sk-toggleable__label sk-toggleable__label-arrow\">estimator: GradientBoostingClassifier</label><div class=\"sk-toggleable__content\"><pre>GradientBoostingClassifier()</pre></div></div></div><div class=\"sk-serial\"><div class=\"sk-item\"><div class=\"sk-estimator sk-toggleable\"><input class=\"sk-toggleable__control sk-hidden--visually\" id=\"sk-estimator-id-3\" type=\"checkbox\" ><label for=\"sk-estimator-id-3\" class=\"sk-toggleable__label sk-toggleable__label-arrow\">GradientBoostingClassifier</label><div class=\"sk-toggleable__content\"><pre>GradientBoostingClassifier()</pre></div></div></div></div></div></div></div></div></div></div>"
      ],
      "text/plain": [
       "GridSearchCV(cv=KFold(n_splits=5, random_state=42, shuffle=True),\n",
       "             estimator=GradientBoostingClassifier(), n_jobs=-1,\n",
       "             param_grid={'learning_rate': [0.01, 0.1, 0.2],\n",
       "                         'n_estimators': [50, 100, 150], 'random_state': [42]},\n",
       "             scoring='recall')"
      ]
     },
     "execution_count": 4,
     "metadata": {},
     "output_type": "execute_result"
    }
   ],
   "source": [
    "gd = GradientBoostingClassifier()\n",
    "kfold = KFold(n_splits=5, shuffle=True, random_state=42)\n",
    "param_grid = {'n_estimators': [50, 100, 150], 'learning_rate': [0.01, 0.1, 0.2], 'random_state': [42]}\n",
    "grid_search = GridSearchCV(gd, param_grid, cv=kfold, scoring='recall', n_jobs=-1)\n",
    "grid_search.fit(final_X_train, final_y_train)\n",
    "\n",
    "sample_weight = compute_sample_weight(class_weight='balanced', y=final_y_train)\n",
    "grid_search.fit(final_X_train, final_y_train, sample_weight=sample_weight)"
   ]
  },
  {
   "cell_type": "code",
   "execution_count": 5,
   "metadata": {},
   "outputs": [
    {
     "name": "stdout",
     "output_type": "stream",
     "text": [
      "GradientBoostingClassifier(learning_rate=0.01, n_estimators=150,\n",
      "                           random_state=42)\n",
      "{'learning_rate': 0.01, 'n_estimators': 150, 'random_state': 42}\n",
      "0.5209513683197894\n"
     ]
    }
   ],
   "source": [
    "print(grid_search.best_estimator_)\n",
    "print(grid_search.best_params_)\n",
    "print(grid_search.best_score_)\n"
   ]
  },
  {
   "cell_type": "code",
   "execution_count": 6,
   "metadata": {},
   "outputs": [
    {
     "name": "stdout",
     "output_type": "stream",
     "text": [
      "  테스트 세트 정확도: 0.9134\n",
      "  테스트 세트 정밀도: 0.0648\n",
      "  테스트 세트 재현율: 0.2500\n",
      "  테스트 세트 F1 스코어: 0.1029\n",
      "  테스트 세트 혼동 행렬:\n",
      "[[1280  101]\n",
      " [  21    7]]\n",
      "--------------------------------------------------\n"
     ]
    },
    {
     "name": "stderr",
     "output_type": "stream",
     "text": [
      "c:\\Users\\Master\\anaconda3\\lib\\site-packages\\sklearn\\base.py:413: UserWarning: X has feature names, but GradientBoostingClassifier was fitted without feature names\n",
      "  warnings.warn(\n"
     ]
    }
   ],
   "source": [
    "y_pred = grid_search.predict(X_test)\n",
    "test_accuracy = accuracy_score(y_test, y_pred)\n",
    "test_precision = precision_score(y_test, y_pred)\n",
    "test_recall = recall_score(y_test, y_pred)\n",
    "test_f1_score = f1_score(y_test, y_pred)\n",
    "test_confusion_matrix = confusion_matrix(y_test, y_pred)\n",
    "\n",
    "print(f'  테스트 세트 정확도: {test_accuracy:.4f}')\n",
    "print(f'  테스트 세트 정밀도: {test_precision:.4f}')\n",
    "print(f'  테스트 세트 재현율: {test_recall:.4f}')\n",
    "print(f'  테스트 세트 F1 스코어: {test_f1_score:.4f}')\n",
    "print(f'  테스트 세트 혼동 행렬:')\n",
    "print(test_confusion_matrix)\n",
    "print('--------------------------------------------------')"
   ]
  },
  {
   "cell_type": "code",
   "execution_count": 13,
   "metadata": {},
   "outputs": [
    {
     "ename": "AttributeError",
     "evalue": "'RUSBoostClassifier' object has no attribute 'coef_'",
     "output_type": "error",
     "traceback": [
      "\u001b[1;31m---------------------------------------------------------------------------\u001b[0m",
      "\u001b[1;31mAttributeError\u001b[0m                            Traceback (most recent call last)",
      "Cell \u001b[1;32mIn[13], line 5\u001b[0m\n\u001b[0;32m      2\u001b[0m best_model \u001b[38;5;241m=\u001b[39m grid_search\u001b[38;5;241m.\u001b[39mbest_estimator_\n\u001b[0;32m      4\u001b[0m \u001b[38;5;66;03m# 회귀 계수 추출\u001b[39;00m\n\u001b[1;32m----> 5\u001b[0m coefficients \u001b[38;5;241m=\u001b[39m \u001b[43mbest_model\u001b[49m\u001b[38;5;241;43m.\u001b[39;49m\u001b[43mcoef_\u001b[49m\n\u001b[0;32m      7\u001b[0m \u001b[38;5;66;03m# 각 피처와 해당 회귀 계수를 연결하는 데이터프레임 생성\u001b[39;00m\n\u001b[0;32m      8\u001b[0m coefficients_df \u001b[38;5;241m=\u001b[39m pd\u001b[38;5;241m.\u001b[39mDataFrame(coefficients, columns\u001b[38;5;241m=\u001b[39mX_train\u001b[38;5;241m.\u001b[39mcolumns)\n",
      "\u001b[1;31mAttributeError\u001b[0m: 'RUSBoostClassifier' object has no attribute 'coef_'"
     ]
    }
   ],
   "source": [
    "# 최적의 모델\n",
    "best_model = grid_search.best_estimator_\n",
    "\n",
    "# 회귀 계수 추출\n",
    "coefficients = best_model.coef_\n",
    "\n",
    "# 각 피처와 해당 회귀 계수를 연결하는 데이터프레임 생성\n",
    "coefficients_df = pd.DataFrame(coefficients, columns=X_train.columns)\n",
    "coefficients_df"
   ]
  },
  {
   "cell_type": "code",
   "execution_count": 41,
   "metadata": {},
   "outputs": [
    {
     "data": {
      "text/plain": [
       "array([-0.07386418])"
      ]
     },
     "execution_count": 41,
     "metadata": {},
     "output_type": "execute_result"
    }
   ],
   "source": [
    "best_model.intercept_"
   ]
  },
  {
   "cell_type": "code",
   "execution_count": 7,
   "metadata": {},
   "outputs": [
    {
     "name": "stderr",
     "output_type": "stream",
     "text": [
      "c:\\Users\\Master\\anaconda3\\lib\\site-packages\\sklearn\\base.py:413: UserWarning: X has feature names, but GradientBoostingClassifier was fitted without feature names\n",
      "  warnings.warn(\n",
      "c:\\Users\\Master\\anaconda3\\lib\\site-packages\\sklearn\\metrics\\_classification.py:1344: UndefinedMetricWarning: Precision is ill-defined and being set to 0.0 due to no predicted samples. Use `zero_division` parameter to control this behavior.\n",
      "  _warn_prf(average, modifier, msg_start, len(result))\n"
     ]
    },
    {
     "name": "stdout",
     "output_type": "stream",
     "text": [
      "Threshold: 0.1 Accuracy: 0.0198722498225692\n",
      "Threshold: 0.1 precision: 0.0198722498225692\n",
      "Threshold: 0.1 recall: 1.0\n",
      "Threshold: 0.1 f1_score: 0.03897007654836465\n",
      "Threshold: 0.1 confusion_matrix: [[   0 1381]\n",
      " [   0   28]]\n",
      "Threshold: 0.2 Accuracy: 0.030518097941802696\n",
      "Threshold: 0.2 precision: 0.020086083213773313\n",
      "Threshold: 0.2 recall: 1.0\n",
      "Threshold: 0.2 f1_score: 0.03938115330520394\n",
      "Threshold: 0.2 confusion_matrix: [[  15 1366]\n",
      " [   0   28]]\n",
      "Threshold: 0.3 Accuracy: 0.22924059616749468\n",
      "Threshold: 0.3 precision: 0.0216998191681736\n",
      "Threshold: 0.3 recall: 0.8571428571428571\n",
      "Threshold: 0.3 f1_score: 0.042328042328042326\n",
      "Threshold: 0.3 confusion_matrix: [[ 299 1082]\n",
      " [   4   24]]\n",
      "Threshold: 0.4 Accuracy: 0.8466997870830376\n",
      "Threshold: 0.4 precision: 0.0392156862745098\n",
      "Threshold: 0.4 recall: 0.2857142857142857\n",
      "Threshold: 0.4 f1_score: 0.06896551724137931\n",
      "Threshold: 0.4 confusion_matrix: [[1185  196]\n",
      " [  20    8]]\n",
      "Threshold: 0.5 Accuracy: 0.9134137686302342\n",
      "Threshold: 0.5 precision: 0.06481481481481481\n",
      "Threshold: 0.5 recall: 0.25\n",
      "Threshold: 0.5 f1_score: 0.10294117647058823\n",
      "Threshold: 0.5 confusion_matrix: [[1280  101]\n",
      " [  21    7]]\n",
      "Threshold: 0.6 Accuracy: 0.9772888573456352\n",
      "Threshold: 0.6 precision: 0.0\n",
      "Threshold: 0.6 recall: 0.0\n",
      "Threshold: 0.6 f1_score: 0.0\n",
      "Threshold: 0.6 confusion_matrix: [[1377    4]\n",
      " [  28    0]]\n",
      "Threshold: 0.7 Accuracy: 0.9801277501774308\n",
      "Threshold: 0.7 precision: 0.0\n",
      "Threshold: 0.7 recall: 0.0\n",
      "Threshold: 0.7 f1_score: 0.0\n",
      "Threshold: 0.7 confusion_matrix: [[1381    0]\n",
      " [  28    0]]\n",
      "Threshold: 0.8 Accuracy: 0.9801277501774308\n",
      "Threshold: 0.8 precision: 0.0\n",
      "Threshold: 0.8 recall: 0.0\n",
      "Threshold: 0.8 f1_score: 0.0\n",
      "Threshold: 0.8 confusion_matrix: [[1381    0]\n",
      " [  28    0]]\n",
      "Threshold: 0.9 Accuracy: 0.9801277501774308\n",
      "Threshold: 0.9 precision: 0.0\n",
      "Threshold: 0.9 recall: 0.0\n",
      "Threshold: 0.9 f1_score: 0.0\n",
      "Threshold: 0.9 confusion_matrix: [[1381    0]\n",
      " [  28    0]]\n"
     ]
    },
    {
     "name": "stderr",
     "output_type": "stream",
     "text": [
      "c:\\Users\\Master\\anaconda3\\lib\\site-packages\\sklearn\\metrics\\_classification.py:1344: UndefinedMetricWarning: Precision is ill-defined and being set to 0.0 due to no predicted samples. Use `zero_division` parameter to control this behavior.\n",
      "  _warn_prf(average, modifier, msg_start, len(result))\n",
      "c:\\Users\\Master\\anaconda3\\lib\\site-packages\\sklearn\\metrics\\_classification.py:1344: UndefinedMetricWarning: Precision is ill-defined and being set to 0.0 due to no predicted samples. Use `zero_division` parameter to control this behavior.\n",
      "  _warn_prf(average, modifier, msg_start, len(result))\n"
     ]
    }
   ],
   "source": [
    "y_prob = grid_search.predict_proba(X_test)[:, 1]\n",
    "\n",
    "# 다양한 임계값에 대해 성능을 평가합니다.\n",
    "thresholds = [0.1, 0.2, 0.3, 0.4, 0.5, 0.6, 0.7, 0.8, 0.9]\n",
    "\n",
    "for threshold in thresholds:\n",
    "    # 임계값을 기준으로 이진 분류를 수행합니다.\n",
    "    y_pred = [1 if prob >= threshold else 0 for prob in y_prob]\n",
    "    \n",
    "    # 정확도를 계산하여 출력합니다.\n",
    "    accuracy = accuracy_score(y_test, y_pred)\n",
    "    precision = precision_score(y_test, y_pred)\n",
    "    recall = recall_score(y_test, y_pred)\n",
    "    rus_f1_score = f1_score(y_test, y_pred)\n",
    "    rus_confusion_matrix = confusion_matrix(y_test, y_pred)\n",
    "    print(\"Threshold:\", threshold, \"Accuracy:\", accuracy)\n",
    "    print(\"Threshold:\", threshold, \"precision:\", precision)\n",
    "    print(\"Threshold:\", threshold, \"recall:\", recall)\n",
    "    print(\"Threshold:\", threshold, \"f1_score:\", rus_f1_score)\n",
    "    print(\"Threshold:\", threshold, \"confusion_matrix:\", rus_confusion_matrix)"
   ]
  },
  {
   "cell_type": "code",
   "execution_count": 10,
   "metadata": {},
   "outputs": [
    {
     "data": {
      "text/plain": [
       "0.5677045619116582"
      ]
     },
     "execution_count": 10,
     "metadata": {},
     "output_type": "execute_result"
    }
   ],
   "source": [
    "roc_auc"
   ]
  },
  {
   "cell_type": "code",
   "execution_count": 9,
   "metadata": {},
   "outputs": [
    {
     "data": {
      "image/png": "[encoded data removed]",
      "text/plain": [
       "<Figure size 800x600 with 1 Axes>"
      ]
     },
     "metadata": {},
     "output_type": "display_data"
    }
   ],
   "source": [
    "from sklearn.metrics import roc_curve, auc\n",
    "import matplotlib.pyplot as plt\n",
    "\n",
    "# ROC 곡선을 그리기 위해 fpr, tpr을 계산합니다.\n",
    "fpr, tpr, thresholds = roc_curve(y_test, y_prob)\n",
    "roc_auc = auc(fpr, tpr)\n",
    "\n",
    "# ROC 곡선 그리기\n",
    "plt.figure(figsize=(8, 6))\n",
    "plt.plot(fpr, tpr, color='darkorange', lw=2, label='ROC curve (area = %0.2f)' % roc_auc)\n",
    "plt.plot([0, 1], [0, 1], color='navy', lw=2, linestyle='--')\n",
    "plt.xlim([0.0, 1.0])\n",
    "plt.ylim([0.0, 1.05])\n",
    "plt.xlabel('False Positive Rate')\n",
    "plt.ylabel('True Positive Rate')\n",
    "plt.title('Receiver Operating Characteristic (ROC) Curve')\n",
    "plt.legend(loc=\"lower right\")\n",
    "plt.show()"
   ]
  }
 ],
 "metadata": {
  "kernelspec": {
   "display_name": "base",
   "language": "python",
   "name": "python3"
  },
  "language_info": {
   "codemirror_mode": {
    "name": "ipython",
    "version": 3
   },
   "file_extension": ".py",
   "mimetype": "text/x-python",
   "name": "python",
   "nbconvert_exporter": "python",
   "pygments_lexer": "ipython3",
   "version": "3.10.9"
  }
 },
 "nbformat": 4,
 "nbformat_minor": 2
}
