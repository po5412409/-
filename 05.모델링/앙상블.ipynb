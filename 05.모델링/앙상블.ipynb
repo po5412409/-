{
 "cells": [
  {
   "cell_type": "markdown",
   "metadata": {},
   "source": [
    "# 1. 모델링 위한 세팅"
   ]
  },
  {
   "cell_type": "code",
   "execution_count": 1,
   "metadata": {},
   "outputs": [
    {
     "name": "stderr",
     "output_type": "stream",
     "text": [
      "c:\\Users\\Master\\anaconda3\\lib\\site-packages\\dask\\dataframe\\__init__.py:42: FutureWarning: \n",
      "Dask dataframe query planning is disabled because dask-expr is not installed.\n",
      "\n",
      "You can install it with `pip install dask[dataframe]` or `conda install dask`.\n",
      "This will raise in a future version.\n",
      "\n",
      "  warnings.warn(msg, FutureWarning)\n"
     ]
    }
   ],
   "source": [
    "import pandas as pd\n",
    "import numpy as np\n",
    "import seaborn as sns\n",
    "import matplotlib.pyplot as plt\n",
    "%matplotlib inline\n",
    "\n",
    "from sklearn.model_selection import train_test_split\n",
    "from sklearn.metrics import recall_score,accuracy_score, precision_score,roc_auc_score,f1_score,confusion_matrix\n",
    "from xgboost import XGBClassifier\n",
    "from lightgbm import LGBMClassifier\n",
    "from sklearn.ensemble import RandomForestClassifier, AdaBoostClassifier, GradientBoostingClassifier\n",
    "from imblearn.ensemble import RUSBoostClassifier\n",
    "from catboost import CatBoostClassifier\n",
    "\n",
    "plt.rcParams['font.family'] = 'Malgun Gothic'\n",
    "\n",
    "import warnings\n",
    "warnings.filterwarnings('ignore')"
   ]
  },
  {
   "cell_type": "code",
   "execution_count": 2,
   "metadata": {},
   "outputs": [
    {
     "name": "stdout",
     "output_type": "stream",
     "text": [
      "number of feature: 40\n",
      "number of data: 4920\n"
     ]
    }
   ],
   "source": [
    "df = pd.read_csv('../data/dataset/코스피_전처리완.csv')\n",
    "\n",
    "X = df[df.columns[6:]]\n",
    "y = df['분식기업']\n",
    "\n",
    "X_train,X_test,y_train,y_test = train_test_split(X, y, test_size=0.3, stratify=y, random_state = 42)\n",
    "\n",
    "n, d = X_train.shape\n",
    "print(\"number of feature:\", d)  # 변수 개수\n",
    "print(\"number of data:\", n)     # 데이터 개수"
   ]
  },
  {
   "cell_type": "code",
   "execution_count": 3,
   "metadata": {},
   "outputs": [
    {
     "name": "stdout",
     "output_type": "stream",
     "text": [
      "분식기업\n",
      "0.0    4821\n",
      "1.0      99\n",
      "Name: count, dtype: int64\n",
      "분식기업\n",
      "0.0    2066\n",
      "1.0      43\n",
      "Name: count, dtype: int64\n"
     ]
    }
   ],
   "source": [
    "print(y_train.value_counts())\n",
    "print(y_test.value_counts())"
   ]
  },
  {
   "cell_type": "code",
   "execution_count": null,
   "metadata": {},
   "outputs": [],
   "source": []
  },
  {
   "cell_type": "code",
   "execution_count": null,
   "metadata": {},
   "outputs": [],
   "source": []
  },
  {
   "cell_type": "markdown",
   "metadata": {},
   "source": [
    "# 2. 모델링"
   ]
  },
  {
   "cell_type": "code",
   "execution_count": 4,
   "metadata": {},
   "outputs": [
    {
     "name": "stdout",
     "output_type": "stream",
     "text": [
      "Accuracy: 0.9810336652441916\n",
      "Precision: 1.0\n",
      "Recall: 0.06976744186046512\n",
      "F1 Score: 0.13043478260869565\n"
     ]
    }
   ],
   "source": [
    "from catboost import CatBoostClassifier, Pool\n",
    "from sklearn.model_selection import train_test_split\n",
    "from sklearn.metrics import accuracy_score, precision_score, recall_score, f1_score\n",
    "\n",
    "# CatBoost 모델 생성\n",
    "model = CatBoostClassifier(iterations=100, learning_rate=0.1, loss_function='Logloss', random_state = 42)\n",
    "\n",
    "# 모델 학습\n",
    "model.fit(X_train, y_train, verbose=0)\n",
    "\n",
    "# 테스트 데이터에 대한 예측\n",
    "y_pred2 = model.predict(X_test)\n",
    "\n",
    "# 다양한 평가 지표 출력\n",
    "accuracy = accuracy_score(y_test, y_pred2)\n",
    "precision = precision_score(y_test, y_pred2)\n",
    "recall = recall_score(y_test, y_pred2)\n",
    "f1 = f1_score(y_test, y_pred2)\n",
    "\n",
    "print(\"Accuracy:\", accuracy)\n",
    "print(\"Precision:\", precision)\n",
    "print(\"Recall:\", recall)\n",
    "print(\"F1 Score:\", f1)\n"
   ]
  },
  {
   "cell_type": "code",
   "execution_count": 5,
   "metadata": {},
   "outputs": [],
   "source": [
    "df2 = pd.DataFrame()"
   ]
  },
  {
   "cell_type": "code",
   "execution_count": 6,
   "metadata": {},
   "outputs": [
    {
     "name": "stdout",
     "output_type": "stream",
     "text": [
      "[[2066    0]\n",
      " [  42    1]]\n"
     ]
    }
   ],
   "source": [
    "rf = RandomForestClassifier(random_state=42)\n",
    "rf.fit(X_train, y_train)\n",
    "y_pred_train = rf.predict(X_train)\n",
    "y_pred_test = rf.predict(X_test)\n",
    "\n",
    "rf_train = [accuracy_score(y_train, y_pred_train),precision_score(y_train, y_pred_train),recall_score(y_train, y_pred_train),f1_score(y_train, y_pred_train),roc_auc_score(y_train, y_pred_train)]\n",
    "rf_test = [accuracy_score(y_test, y_pred_test),precision_score(y_test, y_pred_test),recall_score(y_test, y_pred_test),f1_score(y_test, y_pred_test),roc_auc_score(y_test, y_pred_test)]\n",
    "\n",
    "df2['rf_train'] = rf_train\n",
    "df2['rf_test'] = rf_test\n",
    "\n",
    "\n",
    "print(confusion_matrix(y_test,y_pred_test))"
   ]
  },
  {
   "cell_type": "code",
   "execution_count": 7,
   "metadata": {},
   "outputs": [
    {
     "name": "stdout",
     "output_type": "stream",
     "text": [
      "[[2064    2]\n",
      " [  40    3]]\n"
     ]
    }
   ],
   "source": [
    "ad = AdaBoostClassifier(random_state=42)\n",
    "ad.fit(X_train, y_train)\n",
    "y_pred_train = ad.predict(X_train)\n",
    "y_pred_test = ad.predict(X_test)\n",
    "\n",
    "ad_train = [accuracy_score(y_train, y_pred_train),precision_score(y_train, y_pred_train),recall_score(y_train, y_pred_train),f1_score(y_train, y_pred_train),roc_auc_score(y_train, y_pred_train)]\n",
    "ad_test = [accuracy_score(y_test, y_pred_test),precision_score(y_test, y_pred_test),recall_score(y_test, y_pred_test),f1_score(y_test, y_pred_test),roc_auc_score(y_test, y_pred_test)]\n",
    "\n",
    "df2['ad_train'] = ad_train\n",
    "df2['ad_test'] = ad_test\n",
    "\n",
    "\n",
    "print(confusion_matrix(y_test,y_pred_test))"
   ]
  },
  {
   "cell_type": "code",
   "execution_count": 8,
   "metadata": {},
   "outputs": [
    {
     "name": "stdout",
     "output_type": "stream",
     "text": [
      "[[2054   12]\n",
      " [  38    5]]\n"
     ]
    }
   ],
   "source": [
    "gb = GradientBoostingClassifier(random_state=42)\n",
    "gb.fit(X_train, y_train)\n",
    "y_pred_train = gb.predict(X_train)\n",
    "y_pred_test = gb.predict(X_test)\n",
    "\n",
    "gb_train = [accuracy_score(y_train, y_pred_train),precision_score(y_train, y_pred_train),recall_score(y_train, y_pred_train),f1_score(y_train, y_pred_train),roc_auc_score(y_train, y_pred_train)]\n",
    "gb_test = [accuracy_score(y_test, y_pred_test),precision_score(y_test, y_pred_test),recall_score(y_test, y_pred_test),f1_score(y_test, y_pred_test),roc_auc_score(y_test, y_pred_test)]\n",
    "\n",
    "df2['gb_train'] = gb_train\n",
    "df2['gb_test'] = gb_test\n",
    "\n",
    "\n",
    "print(confusion_matrix(y_test,y_pred_test))"
   ]
  },
  {
   "cell_type": "code",
   "execution_count": 9,
   "metadata": {},
   "outputs": [
    {
     "name": "stdout",
     "output_type": "stream",
     "text": [
      "[[1604  462]\n",
      " [  16   27]]\n"
     ]
    }
   ],
   "source": [
    "rus = RUSBoostClassifier(random_state=42)\n",
    "rus.fit(X_train, y_train)\n",
    "y_pred_train = rus.predict(X_train)\n",
    "y_pred_test = rus.predict(X_test)\n",
    "\n",
    "rus_train = [accuracy_score(y_train, y_pred_train),precision_score(y_train, y_pred_train),recall_score(y_train, y_pred_train),f1_score(y_train, y_pred_train),roc_auc_score(y_train, y_pred_train)]\n",
    "rus_test = [accuracy_score(y_test, y_pred_test),precision_score(y_test, y_pred_test),recall_score(y_test, y_pred_test),f1_score(y_test, y_pred_test),roc_auc_score(y_test, y_pred_test)]\n",
    "\n",
    "df2['rus_train'] = rus_train\n",
    "df2['rus_test'] = rus_test\n",
    "\n",
    "\n",
    "print(confusion_matrix(y_test,y_pred_test))"
   ]
  },
  {
   "cell_type": "code",
   "execution_count": 10,
   "metadata": {},
   "outputs": [
    {
     "name": "stdout",
     "output_type": "stream",
     "text": [
      "[[2064    2]\n",
      " [  38    5]]\n"
     ]
    }
   ],
   "source": [
    "xgb = XGBClassifier(random_state=42)\n",
    "xgb.fit(X_train, y_train)\n",
    "y_pred_train = xgb.predict(X_train)\n",
    "y_pred_test = xgb.predict(X_test)\n",
    "\n",
    "xgb_train = [accuracy_score(y_train, y_pred_train),precision_score(y_train, y_pred_train),recall_score(y_train, y_pred_train),f1_score(y_train, y_pred_train),roc_auc_score(y_train, y_pred_train)]\n",
    "xgb_test = [accuracy_score(y_test, y_pred_test),precision_score(y_test, y_pred_test),recall_score(y_test, y_pred_test),f1_score(y_test, y_pred_test),roc_auc_score(y_test, y_pred_test)]\n",
    "\n",
    "df2['xgb_train'] = xgb_train\n",
    "df2['xgb_test'] = xgb_test\n",
    "\n",
    "\n",
    "print(confusion_matrix(y_test,y_pred_test))"
   ]
  },
  {
   "cell_type": "code",
   "execution_count": 11,
   "metadata": {},
   "outputs": [
    {
     "name": "stdout",
     "output_type": "stream",
     "text": [
      "[LightGBM] [Info] Number of positive: 99, number of negative: 4821\n",
      "[LightGBM] [Info] Auto-choosing col-wise multi-threading, the overhead of testing was 0.002461 seconds.\n",
      "You can set `force_col_wise=true` to remove the overhead.\n",
      "[LightGBM] [Info] Total Bins 9332\n",
      "[LightGBM] [Info] Number of data points in the train set: 4920, number of used features: 40\n",
      "[LightGBM] [Info] [binary:BoostFromScore]: pavg=0.020122 -> initscore=-3.885617\n",
      "[LightGBM] [Info] Start training from score -3.885617\n",
      "[[2066    0]\n",
      " [  38    5]]\n"
     ]
    }
   ],
   "source": [
    "lgb = LGBMClassifier(random_state=42)\n",
    "lgb.fit(X_train, y_train)\n",
    "y_pred_train = lgb.predict(X_train)\n",
    "y_pred_test = lgb.predict(X_test)\n",
    "\n",
    "lgb_train =[accuracy_score(y_train, y_pred_train),precision_score(y_train, y_pred_train),recall_score(y_train, y_pred_train),f1_score(y_train, y_pred_train),roc_auc_score(y_train, y_pred_train)]\n",
    "lgb_test = [accuracy_score(y_test, y_pred_test),precision_score(y_test, y_pred_test),recall_score(y_test, y_pred_test),f1_score(y_test, y_pred_test),roc_auc_score(y_test, y_pred_test)]\n",
    "\n",
    "df2['lgb_train'] = lgb_train\n",
    "df2['lgb_test'] = lgb_test\n",
    "\n",
    "\n",
    "print(confusion_matrix(y_test,y_pred_test))"
   ]
  },
  {
   "cell_type": "code",
   "execution_count": 12,
   "metadata": {},
   "outputs": [
    {
     "name": "stdout",
     "output_type": "stream",
     "text": [
      "[[2066    0]\n",
      " [  41    2]]\n"
     ]
    }
   ],
   "source": [
    "cat = CatBoostClassifier(random_state=42, verbose=0)\n",
    "cat.fit(X_train, y_train)\n",
    "y_pred_train = cat.predict(X_train)\n",
    "y_pred_test = cat.predict(X_test)\n",
    "\n",
    "cat_train = [accuracy_score(y_train, y_pred_train),precision_score(y_train, y_pred_train),recall_score(y_train, y_pred_train),f1_score(y_train, y_pred_train),roc_auc_score(y_train, y_pred_train)]\n",
    "cat_test = [accuracy_score(y_test, y_pred_test),precision_score(y_test, y_pred_test),recall_score(y_test, y_pred_test),f1_score(y_test, y_pred_test),roc_auc_score(y_test, y_pred_test)]\n",
    "\n",
    "df2['cat_train'] = cat_train\n",
    "df2['cat_test'] = cat_test\n",
    "\n",
    "\n",
    "print(confusion_matrix(y_test,y_pred_test))"
   ]
  },
  {
   "cell_type": "markdown",
   "metadata": {},
   "source": [
    "## 성능요약"
   ]
  },
  {
   "cell_type": "code",
   "execution_count": 13,
   "metadata": {},
   "outputs": [
    {
     "data": {
      "text/html": [
       "<div>\n",
       "<style scoped>\n",
       "    .dataframe tbody tr th:only-of-type {\n",
       "        vertical-align: middle;\n",
       "    }\n",
       "\n",
       "    .dataframe tbody tr th {\n",
       "        vertical-align: top;\n",
       "    }\n",
       "\n",
       "    .dataframe thead th {\n",
       "        text-align: right;\n",
       "    }\n",
       "</style>\n",
       "<table border=\"1\" class=\"dataframe\">\n",
       "  <thead>\n",
       "    <tr style=\"text-align: right;\">\n",
       "      <th></th>\n",
       "      <th>rf_train</th>\n",
       "      <th>rf_test</th>\n",
       "      <th>ad_train</th>\n",
       "      <th>ad_test</th>\n",
       "      <th>gb_train</th>\n",
       "      <th>gb_test</th>\n",
       "      <th>rus_train</th>\n",
       "      <th>rus_test</th>\n",
       "      <th>xgb_train</th>\n",
       "      <th>xgb_test</th>\n",
       "      <th>lgb_train</th>\n",
       "      <th>lgb_test</th>\n",
       "      <th>cat_train</th>\n",
       "      <th>cat_test</th>\n",
       "    </tr>\n",
       "  </thead>\n",
       "  <tbody>\n",
       "    <tr>\n",
       "      <th>accuracy</th>\n",
       "      <td>1.0</td>\n",
       "      <td>0.980085</td>\n",
       "      <td>0.979878</td>\n",
       "      <td>0.980085</td>\n",
       "      <td>0.993902</td>\n",
       "      <td>0.976292</td>\n",
       "      <td>0.766260</td>\n",
       "      <td>0.773352</td>\n",
       "      <td>1.0</td>\n",
       "      <td>0.981034</td>\n",
       "      <td>1.0</td>\n",
       "      <td>0.981982</td>\n",
       "      <td>0.997764</td>\n",
       "      <td>0.980560</td>\n",
       "    </tr>\n",
       "    <tr>\n",
       "      <th>precision</th>\n",
       "      <td>1.0</td>\n",
       "      <td>1.000000</td>\n",
       "      <td>0.500000</td>\n",
       "      <td>0.600000</td>\n",
       "      <td>1.000000</td>\n",
       "      <td>0.294118</td>\n",
       "      <td>0.054283</td>\n",
       "      <td>0.055215</td>\n",
       "      <td>1.0</td>\n",
       "      <td>0.714286</td>\n",
       "      <td>1.0</td>\n",
       "      <td>1.000000</td>\n",
       "      <td>1.000000</td>\n",
       "      <td>1.000000</td>\n",
       "    </tr>\n",
       "    <tr>\n",
       "      <th>recall</th>\n",
       "      <td>1.0</td>\n",
       "      <td>0.023256</td>\n",
       "      <td>0.121212</td>\n",
       "      <td>0.069767</td>\n",
       "      <td>0.696970</td>\n",
       "      <td>0.116279</td>\n",
       "      <td>0.646465</td>\n",
       "      <td>0.627907</td>\n",
       "      <td>1.0</td>\n",
       "      <td>0.116279</td>\n",
       "      <td>1.0</td>\n",
       "      <td>0.116279</td>\n",
       "      <td>0.888889</td>\n",
       "      <td>0.046512</td>\n",
       "    </tr>\n",
       "    <tr>\n",
       "      <th>f1-score</th>\n",
       "      <td>1.0</td>\n",
       "      <td>0.045455</td>\n",
       "      <td>0.195122</td>\n",
       "      <td>0.125000</td>\n",
       "      <td>0.821429</td>\n",
       "      <td>0.166667</td>\n",
       "      <td>0.100156</td>\n",
       "      <td>0.101504</td>\n",
       "      <td>1.0</td>\n",
       "      <td>0.200000</td>\n",
       "      <td>1.0</td>\n",
       "      <td>0.208333</td>\n",
       "      <td>0.941176</td>\n",
       "      <td>0.088889</td>\n",
       "    </tr>\n",
       "    <tr>\n",
       "      <th>roc-auc</th>\n",
       "      <td>1.0</td>\n",
       "      <td>0.511628</td>\n",
       "      <td>0.559362</td>\n",
       "      <td>0.534400</td>\n",
       "      <td>0.848485</td>\n",
       "      <td>0.555235</td>\n",
       "      <td>0.707592</td>\n",
       "      <td>0.702143</td>\n",
       "      <td>1.0</td>\n",
       "      <td>0.557656</td>\n",
       "      <td>1.0</td>\n",
       "      <td>0.558140</td>\n",
       "      <td>0.944444</td>\n",
       "      <td>0.523256</td>\n",
       "    </tr>\n",
       "  </tbody>\n",
       "</table>\n",
       "</div>"
      ],
      "text/plain": [
       "           rf_train   rf_test  ad_train   ad_test  gb_train   gb_test  \\\n",
       "accuracy        1.0  0.980085  0.979878  0.980085  0.993902  0.976292   \n",
       "precision       1.0  1.000000  0.500000  0.600000  1.000000  0.294118   \n",
       "recall          1.0  0.023256  0.121212  0.069767  0.696970  0.116279   \n",
       "f1-score        1.0  0.045455  0.195122  0.125000  0.821429  0.166667   \n",
       "roc-auc         1.0  0.511628  0.559362  0.534400  0.848485  0.555235   \n",
       "\n",
       "           rus_train  rus_test  xgb_train  xgb_test  lgb_train  lgb_test  \\\n",
       "accuracy    0.766260  0.773352        1.0  0.981034        1.0  0.981982   \n",
       "precision   0.054283  0.055215        1.0  0.714286        1.0  1.000000   \n",
       "recall      0.646465  0.627907        1.0  0.116279        1.0  0.116279   \n",
       "f1-score    0.100156  0.101504        1.0  0.200000        1.0  0.208333   \n",
       "roc-auc     0.707592  0.702143        1.0  0.557656        1.0  0.558140   \n",
       "\n",
       "           cat_train  cat_test  \n",
       "accuracy    0.997764  0.980560  \n",
       "precision   1.000000  1.000000  \n",
       "recall      0.888889  0.046512  \n",
       "f1-score    0.941176  0.088889  \n",
       "roc-auc     0.944444  0.523256  "
      ]
     },
     "execution_count": 13,
     "metadata": {},
     "output_type": "execute_result"
    }
   ],
   "source": [
    "df2.index = ['accuracy','precision','recall','f1-score','roc-auc']\n",
    "df2"
   ]
  },
  {
   "cell_type": "code",
   "execution_count": null,
   "metadata": {},
   "outputs": [],
   "source": []
  },
  {
   "cell_type": "markdown",
   "metadata": {},
   "source": [
    "# 3. 교차검증"
   ]
  },
  {
   "cell_type": "code",
   "execution_count": null,
   "metadata": {},
   "outputs": [],
   "source": [
    "from sklearn.model_selection import GridSearchCV\n",
    "\n"
   ]
  }
 ],
 "metadata": {
  "kernelspec": {
   "display_name": "base",
   "language": "python",
   "name": "python3"
  },
  "language_info": {
   "codemirror_mode": {
    "name": "ipython",
    "version": 3
   },
   "file_extension": ".py",
   "mimetype": "text/x-python",
   "name": "python",
   "nbconvert_exporter": "python",
   "pygments_lexer": "ipython3",
   "version": "3.10.9"
  }
 },
 "nbformat": 4,
 "nbformat_minor": 2
}
